{
 "cells": [
  {
   "cell_type": "code",
   "execution_count": 1,
   "id": "2d6f2848",
   "metadata": {},
   "outputs": [
    {
     "name": "stdout",
     "output_type": "stream",
     "text": [
      "\n",
      "\n",
      "Welcome to CellposeSAM, cellpose v\n",
      "cellpose version: \t4.0.6 \n",
      "platform:       \twin32 \n",
      "python version: \t3.10.18 \n",
      "torch version:  \t2.5.0! The neural network component of\n",
      "CPSAM is much larger than in previous versions and CPU excution is slow. \n",
      "We encourage users to use GPU/MPS if available. \n",
      "\n",
      "\n",
      "2025-10-06 12:32:45,429 [INFO] WRITING LOG OUTPUT TO C:\\Users\\adiez_cmic\\.cellpose\\run.log\n",
      "2025-10-06 12:32:45,429 [INFO] \n",
      "cellpose version: \t4.0.6 \n",
      "platform:       \twin32 \n",
      "python version: \t3.10.18 \n",
      "torch version:  \t2.5.0\n",
      "2025-10-06 12:32:45,481 [INFO] ** TORCH CUDA version installed and working. **\n",
      "2025-10-06 12:32:45,481 [INFO] ** TORCH CUDA version installed and working. **\n",
      "2025-10-06 12:32:45,481 [INFO] >>>> using GPU (CUDA)\n",
      "2025-10-06 12:32:46,434 [INFO] >>>> loading model C:\\Users\\adiez_cmic\\.cellpose\\models\\cpsam\n"
     ]
    }
   ],
   "source": [
    "import numpy as np\n",
    "from cellpose import models, core, io\n",
    "from pathlib import Path\n",
    "from pathlib import Path\n",
    "import napari\n",
    "import apoc\n",
    "from tqdm import tqdm\n",
    "import pyclesperanto_prototype as cle \n",
    "from tifffile import imwrite, imread\n",
    "from utils import list_images, read_image\n",
    "\n",
    "io.logger_setup() # run this to get printing of progress\n",
    "\n",
    "#Check if colab notebook instance has GPU access\n",
    "if core.use_gpu()==False:\n",
    "  raise ImportError(\"No GPU access, change your runtime\")\n",
    "\n",
    "#Load pre-trained Cellpose-SAM and Spotiflow models\n",
    "model = models.CellposeModel(gpu=True)"
   ]
  },
  {
   "cell_type": "code",
   "execution_count": 3,
   "id": "777aa243",
   "metadata": {},
   "outputs": [
    {
     "data": {
      "text/plain": [
       "['\\\\\\\\forskning.it.ntnu.no\\\\ntnu\\\\mh\\\\ikom\\\\cmic_konfokal\\\\lusie.f.kuraas\\\\PhD\\\\Nikon Spinning Disc\\\\25.09.19\\\\Plate 1 (occludin + claudin-2)\\\\E2_20x.nd2',\n",
       " '\\\\\\\\forskning.it.ntnu.no\\\\ntnu\\\\mh\\\\ikom\\\\cmic_konfokal\\\\lusie.f.kuraas\\\\PhD\\\\Nikon Spinning Disc\\\\25.09.19\\\\Plate 1 (occludin + claudin-2)\\\\E3_20x.nd2',\n",
       " '\\\\\\\\forskning.it.ntnu.no\\\\ntnu\\\\mh\\\\ikom\\\\cmic_konfokal\\\\lusie.f.kuraas\\\\PhD\\\\Nikon Spinning Disc\\\\25.09.19\\\\Plate 1 (occludin + claudin-2)\\\\E4_20x.nd2',\n",
       " '\\\\\\\\forskning.it.ntnu.no\\\\ntnu\\\\mh\\\\ikom\\\\cmic_konfokal\\\\lusie.f.kuraas\\\\PhD\\\\Nikon Spinning Disc\\\\25.09.19\\\\Plate 1 (occludin + claudin-2)\\\\E5_20x.nd2',\n",
       " '\\\\\\\\forskning.it.ntnu.no\\\\ntnu\\\\mh\\\\ikom\\\\cmic_konfokal\\\\lusie.f.kuraas\\\\PhD\\\\Nikon Spinning Disc\\\\25.09.19\\\\Plate 1 (occludin + claudin-2)\\\\E6_20x.nd2',\n",
       " '\\\\\\\\forskning.it.ntnu.no\\\\ntnu\\\\mh\\\\ikom\\\\cmic_konfokal\\\\lusie.f.kuraas\\\\PhD\\\\Nikon Spinning Disc\\\\25.09.19\\\\Plate 1 (occludin + claudin-2)\\\\E7_20x.nd2',\n",
       " '\\\\\\\\forskning.it.ntnu.no\\\\ntnu\\\\mh\\\\ikom\\\\cmic_konfokal\\\\lusie.f.kuraas\\\\PhD\\\\Nikon Spinning Disc\\\\25.09.19\\\\Plate 1 (occludin + claudin-2)\\\\E8_20x.nd2',\n",
       " '\\\\\\\\forskning.it.ntnu.no\\\\ntnu\\\\mh\\\\ikom\\\\cmic_konfokal\\\\lusie.f.kuraas\\\\PhD\\\\Nikon Spinning Disc\\\\25.09.19\\\\Plate 1 (occludin + claudin-2)\\\\E9_20x.nd2',\n",
       " '\\\\\\\\forskning.it.ntnu.no\\\\ntnu\\\\mh\\\\ikom\\\\cmic_konfokal\\\\lusie.f.kuraas\\\\PhD\\\\Nikon Spinning Disc\\\\25.09.19\\\\Plate 1 (occludin + claudin-2)\\\\F2_20x.nd2',\n",
       " '\\\\\\\\forskning.it.ntnu.no\\\\ntnu\\\\mh\\\\ikom\\\\cmic_konfokal\\\\lusie.f.kuraas\\\\PhD\\\\Nikon Spinning Disc\\\\25.09.19\\\\Plate 1 (occludin + claudin-2)\\\\F3_20x.nd2',\n",
       " '\\\\\\\\forskning.it.ntnu.no\\\\ntnu\\\\mh\\\\ikom\\\\cmic_konfokal\\\\lusie.f.kuraas\\\\PhD\\\\Nikon Spinning Disc\\\\25.09.19\\\\Plate 1 (occludin + claudin-2)\\\\F4_20x.nd2',\n",
       " '\\\\\\\\forskning.it.ntnu.no\\\\ntnu\\\\mh\\\\ikom\\\\cmic_konfokal\\\\lusie.f.kuraas\\\\PhD\\\\Nikon Spinning Disc\\\\25.09.19\\\\Plate 1 (occludin + claudin-2)\\\\F5_20x.nd2',\n",
       " '\\\\\\\\forskning.it.ntnu.no\\\\ntnu\\\\mh\\\\ikom\\\\cmic_konfokal\\\\lusie.f.kuraas\\\\PhD\\\\Nikon Spinning Disc\\\\25.09.19\\\\Plate 1 (occludin + claudin-2)\\\\F6_20x.nd2',\n",
       " '\\\\\\\\forskning.it.ntnu.no\\\\ntnu\\\\mh\\\\ikom\\\\cmic_konfokal\\\\lusie.f.kuraas\\\\PhD\\\\Nikon Spinning Disc\\\\25.09.19\\\\Plate 1 (occludin + claudin-2)\\\\F7_20x.nd2',\n",
       " '\\\\\\\\forskning.it.ntnu.no\\\\ntnu\\\\mh\\\\ikom\\\\cmic_konfokal\\\\lusie.f.kuraas\\\\PhD\\\\Nikon Spinning Disc\\\\25.09.19\\\\Plate 1 (occludin + claudin-2)\\\\F8_20x.nd2',\n",
       " '\\\\\\\\forskning.it.ntnu.no\\\\ntnu\\\\mh\\\\ikom\\\\cmic_konfokal\\\\lusie.f.kuraas\\\\PhD\\\\Nikon Spinning Disc\\\\25.09.19\\\\Plate 1 (occludin + claudin-2)\\\\F9_20x.nd2',\n",
       " '\\\\\\\\forskning.it.ntnu.no\\\\ntnu\\\\mh\\\\ikom\\\\cmic_konfokal\\\\lusie.f.kuraas\\\\PhD\\\\Nikon Spinning Disc\\\\25.09.19\\\\Plate 1 (occludin + claudin-2)\\\\G2_20x.nd2',\n",
       " '\\\\\\\\forskning.it.ntnu.no\\\\ntnu\\\\mh\\\\ikom\\\\cmic_konfokal\\\\lusie.f.kuraas\\\\PhD\\\\Nikon Spinning Disc\\\\25.09.19\\\\Plate 1 (occludin + claudin-2)\\\\G3_20x.nd2',\n",
       " '\\\\\\\\forskning.it.ntnu.no\\\\ntnu\\\\mh\\\\ikom\\\\cmic_konfokal\\\\lusie.f.kuraas\\\\PhD\\\\Nikon Spinning Disc\\\\25.09.19\\\\Plate 1 (occludin + claudin-2)\\\\G4_20x.nd2',\n",
       " '\\\\\\\\forskning.it.ntnu.no\\\\ntnu\\\\mh\\\\ikom\\\\cmic_konfokal\\\\lusie.f.kuraas\\\\PhD\\\\Nikon Spinning Disc\\\\25.09.19\\\\Plate 1 (occludin + claudin-2)\\\\G5_20x.nd2',\n",
       " '\\\\\\\\forskning.it.ntnu.no\\\\ntnu\\\\mh\\\\ikom\\\\cmic_konfokal\\\\lusie.f.kuraas\\\\PhD\\\\Nikon Spinning Disc\\\\25.09.19\\\\Plate 1 (occludin + claudin-2)\\\\G6_20x.nd2',\n",
       " '\\\\\\\\forskning.it.ntnu.no\\\\ntnu\\\\mh\\\\ikom\\\\cmic_konfokal\\\\lusie.f.kuraas\\\\PhD\\\\Nikon Spinning Disc\\\\25.09.19\\\\Plate 1 (occludin + claudin-2)\\\\G7_20x.nd2',\n",
       " '\\\\\\\\forskning.it.ntnu.no\\\\ntnu\\\\mh\\\\ikom\\\\cmic_konfokal\\\\lusie.f.kuraas\\\\PhD\\\\Nikon Spinning Disc\\\\25.09.19\\\\Plate 1 (occludin + claudin-2)\\\\G8_20x.nd2',\n",
       " '\\\\\\\\forskning.it.ntnu.no\\\\ntnu\\\\mh\\\\ikom\\\\cmic_konfokal\\\\lusie.f.kuraas\\\\PhD\\\\Nikon Spinning Disc\\\\25.09.19\\\\Plate 1 (occludin + claudin-2)\\\\G9_20x.nd2',\n",
       " '\\\\\\\\forskning.it.ntnu.no\\\\ntnu\\\\mh\\\\ikom\\\\cmic_konfokal\\\\lusie.f.kuraas\\\\PhD\\\\Nikon Spinning Disc\\\\25.09.19\\\\Plate 1 (occludin + claudin-2)\\\\Overview.nd2']"
      ]
     },
     "execution_count": 3,
     "metadata": {},
     "output_type": "execute_result"
    }
   ],
   "source": [
    "# Copy the path where your images are stored, you can use absolute or relative paths to point at other disk locations\n",
    "directory_path = Path(r\"\\\\forskning.it.ntnu.no\\ntnu\\mh\\ikom\\cmic_konfokal\\lusie.f.kuraas\\PhD\\Nikon Spinning Disc\\25.09.19\\Plate 1 (occludin + claudin-2)\")\n",
    "\n",
    "# Iterate through the .czi and .nd2 files in the directory\n",
    "images = list_images(directory_path)\n",
    "\n",
    "# Image size reduction (downsampling) to improve processing times (slicing, not lossless compression)\n",
    "slicing_factor_xy = None # Use 2 or 4 for downsampling in xy (None for lossless)\n",
    "\n",
    "images"
   ]
  },
  {
   "cell_type": "code",
   "execution_count": 4,
   "id": "e06f0871",
   "metadata": {},
   "outputs": [],
   "source": [
    "viewer = napari.Viewer(ndisplay=2)"
   ]
  },
  {
   "cell_type": "code",
   "execution_count": 26,
   "id": "72b15d1c",
   "metadata": {},
   "outputs": [
    {
     "name": "stdout",
     "output_type": "stream",
     "text": [
      "\n",
      "Image analyzed: E2_20x\n"
     ]
    },
    {
     "data": {
      "text/plain": [
       "<Image layer 'img [1]' at 0x1e28ff01360>"
      ]
     },
     "execution_count": 26,
     "metadata": {},
     "output_type": "execute_result"
    }
   ],
   "source": [
    "# Explore a different image (0 defines the first image in the directory)\n",
    "image = images[0]\n",
    "\n",
    "# Read image, apply slicing if needed and return filename and img as a np array\n",
    "img, filename = read_image(image, slicing_factor_xy)\n",
    "\n",
    "# Extract well_id\n",
    "well_id = filename.split(\"_\")[0]\n",
    "\n",
    "# Open one of the multipositions in the img file\n",
    "img = img[2]\n",
    "\n",
    "viewer.add_image(img)"
   ]
  },
  {
   "cell_type": "code",
   "execution_count": 28,
   "id": "bae9ab36",
   "metadata": {},
   "outputs": [
    {
     "data": {
      "text/plain": [
       "(15, 5, 1360, 1360)"
      ]
     },
     "execution_count": 28,
     "metadata": {},
     "output_type": "execute_result"
    }
   ],
   "source": [
    "img.shape"
   ]
  },
  {
   "cell_type": "code",
   "execution_count": 30,
   "id": "33631e3d",
   "metadata": {},
   "outputs": [
    {
     "data": {
      "text/plain": [
       "(5, 15, 1360, 1360)"
      ]
     },
     "execution_count": 30,
     "metadata": {},
     "output_type": "execute_result"
    }
   ],
   "source": [
    "img = img.transpose(1, 0, 2, 3)\n",
    "img.shape"
   ]
  },
  {
   "cell_type": "code",
   "execution_count": 35,
   "id": "1930ce8e",
   "metadata": {},
   "outputs": [
    {
     "data": {
      "text/plain": [
       "(2, 15, 1360, 1360)"
      ]
     },
     "execution_count": 35,
     "metadata": {},
     "output_type": "execute_result"
    }
   ],
   "source": [
    "# Cellmask and nuclei are in position 2 and 3 respectively\n",
    "\n",
    "# if you want to combine two stains to create your \"cytoplasm\" channel\n",
    "# in this example indices 0, 1 and 2 (1st, 2nd and 3rd) have cellular stains\n",
    "# and nuclei are in index 3 (4th channel)\n",
    "\n",
    "img_cp = np.stack((img[[0,1,2]].sum(axis=0), img[3]), axis=0)\n",
    "\n",
    "img_cp.shape"
   ]
  },
  {
   "cell_type": "code",
   "execution_count": 36,
   "id": "324c4bbc",
   "metadata": {},
   "outputs": [
    {
     "data": {
      "text/plain": [
       "<Image layer 'img_cp [1]' at 0x1e216166830>"
      ]
     },
     "execution_count": 36,
     "metadata": {},
     "output_type": "execute_result"
    }
   ],
   "source": [
    "viewer.add_image(img_cp)"
   ]
  },
  {
   "cell_type": "code",
   "execution_count": 37,
   "id": "7ee5073c",
   "metadata": {},
   "outputs": [
    {
     "name": "stdout",
     "output_type": "stream",
     "text": [
      "2025-10-06 13:20:07,504 [INFO] running YX: 15 planes of size (1360, 1360)\n",
      "2025-10-06 13:20:07,504 [INFO] 0%|          | 0/15 [00:00<?, ?it/s]\n",
      "2025-10-06 13:20:20,161 [INFO] 100%|##########| 15/15 [00:12<00:00,  1.19it/s]\n",
      "2025-10-06 13:20:20,311 [INFO] running ZY: 1360 planes of size (15, 1360)\n",
      "2025-10-06 13:20:20,311 [INFO] 0%|          | 0/1360 [00:00<?, ?it/s]\n",
      "2025-10-06 13:20:50,355 [INFO] 16%|#6        | 224/1360 [00:30<02:32,  7.46it/s]\n",
      "2025-10-06 13:21:07,971 [INFO] 16%|#6        | 224/1360 [00:47<02:32,  7.46it/s]\n",
      "2025-10-06 13:21:20,390 [INFO] 32%|###1      | 434/1360 [01:00<02:08,  7.18it/s]\n",
      "2025-10-06 13:21:37,984 [INFO] 32%|###1      | 434/1360 [01:17<02:08,  7.18it/s]\n",
      "2025-10-06 13:21:50,405 [INFO] 48%|####8     | 658/1360 [01:30<01:36,  7.31it/s]\n",
      "2025-10-06 13:22:07,990 [INFO] 48%|####8     | 658/1360 [01:47<01:36,  7.31it/s]\n",
      "2025-10-06 13:22:20,492 [INFO] 66%|######5   | 893/1360 [02:00<01:02,  7.51it/s]\n",
      "2025-10-06 13:22:37,993 [INFO] 66%|######5   | 893/1360 [02:17<01:02,  7.51it/s]\n",
      "2025-10-06 13:22:50,571 [INFO] 83%|########3 | 1130/1360 [02:30<00:30,  7.64it/s]\n",
      "2025-10-06 13:23:08,012 [INFO] 83%|########3 | 1130/1360 [02:47<00:30,  7.64it/s]\n",
      "2025-10-06 13:23:19,764 [INFO] 100%|##########| 1360/1360 [02:59<00:00,  7.58it/s]\n",
      "2025-10-06 13:23:20,140 [INFO] running ZX: 1360 planes of size (15, 1360)\n",
      "2025-10-06 13:23:20,140 [INFO] 0%|          | 0/1360 [00:00<?, ?it/s]\n",
      "2025-10-06 13:23:50,186 [INFO] 18%|#7        | 243/1360 [00:30<02:18,  8.09it/s]\n",
      "2025-10-06 13:24:08,019 [INFO] 18%|#7        | 243/1360 [00:47<02:18,  8.09it/s]\n",
      "2025-10-06 13:24:20,201 [INFO] 36%|###5      | 484/1360 [01:00<01:48,  8.05it/s]\n",
      "2025-10-06 13:24:38,037 [INFO] 36%|###5      | 484/1360 [01:17<01:48,  8.05it/s]\n",
      "2025-10-06 13:24:50,311 [INFO] 53%|#####3    | 725/1360 [01:30<01:19,  8.03it/s]\n",
      "2025-10-06 13:25:08,042 [INFO] 53%|#####3    | 725/1360 [01:47<01:19,  8.03it/s]\n",
      "2025-10-06 13:25:20,317 [INFO] 71%|#######1  | 966/1360 [02:00<00:49,  8.03it/s]\n",
      "2025-10-06 13:25:38,046 [INFO] 71%|#######1  | 966/1360 [02:17<00:49,  8.03it/s]\n",
      "2025-10-06 13:25:50,401 [INFO] 88%|########8 | 1202/1360 [02:30<00:19,  7.96it/s]\n",
      "2025-10-06 13:26:08,065 [INFO] 88%|########8 | 1202/1360 [02:47<00:19,  7.96it/s]\n",
      "2025-10-06 13:26:10,267 [INFO] 100%|##########| 1360/1360 [02:50<00:00,  7.99it/s]\n",
      "2025-10-06 13:26:10,916 [INFO] network run in 363.41s\n",
      "2025-10-06 13:26:13,090 [INFO] masks created in 1.56s\n"
     ]
    },
    {
     "data": {
      "text/plain": [
       "<Labels layer 'labels' at 0x1e29ef268c0>"
      ]
     },
     "execution_count": 37,
     "metadata": {},
     "output_type": "execute_result"
    }
   ],
   "source": [
    "labels, flows, styles = model.eval(img_cp, channel_axis=0, z_axis=1, do_3D=True, niter=None) # need to check the arguments\n",
    "viewer.add_labels(labels)"
   ]
  },
  {
   "cell_type": "code",
   "execution_count": 38,
   "id": "a73dce7e",
   "metadata": {},
   "outputs": [],
   "source": [
    "maxproj = np.max(img_cp, axis=1)"
   ]
  },
  {
   "cell_type": "code",
   "execution_count": 39,
   "id": "cf0f34c2",
   "metadata": {},
   "outputs": [
    {
     "data": {
      "text/plain": [
       "<Image layer 'maxproj' at 0x1e1f8deded0>"
      ]
     },
     "execution_count": 39,
     "metadata": {},
     "output_type": "execute_result"
    }
   ],
   "source": [
    "viewer.add_image(maxproj)"
   ]
  },
  {
   "cell_type": "code",
   "execution_count": 40,
   "id": "250a1f16",
   "metadata": {},
   "outputs": [
    {
     "data": {
      "text/plain": [
       "(2, 1360, 1360)"
      ]
     },
     "execution_count": 40,
     "metadata": {},
     "output_type": "execute_result"
    }
   ],
   "source": [
    "maxproj.shape"
   ]
  },
  {
   "cell_type": "code",
   "execution_count": null,
   "id": "c7dcb553",
   "metadata": {},
   "outputs": [
    {
     "data": {
      "text/plain": [
       "<Labels layer 'labels [2]' at 0x1e298072290>"
      ]
     },
     "execution_count": 42,
     "metadata": {},
     "output_type": "execute_result"
    }
   ],
   "source": [
    "labels, flows, styles = model.eval(maxproj[1], do_3D=False, niter=None) # simple nuclei segmentation\n",
    "viewer.add_labels(labels)"
   ]
  },
  {
   "cell_type": "code",
   "execution_count": null,
   "id": "dc13f4d7",
   "metadata": {},
   "outputs": [],
   "source": [
    "cle.voronoi_otsu_labeling()"
   ]
  },
  {
   "cell_type": "code",
   "execution_count": 43,
   "id": "c095b480",
   "metadata": {},
   "outputs": [
    {
     "name": "stdout",
     "output_type": "stream",
     "text": [
      "Pixel size: 0.663 µm x 0.663 µm\n",
      "Voxel (Z-step) size: 6.631 µm\n"
     ]
    }
   ],
   "source": [
    "import nd2\n",
    "\n",
    "with nd2.ND2File(image) as nd2_data:\n",
    "    # Get the first channel's volume metadata\n",
    "    first_channel = nd2_data.metadata.channels[0]\n",
    "    voxel_size = first_channel.volume.axesCalibration  # X, Y, Z calibration\n",
    "\n",
    "    # Extract pixel sizes\n",
    "    pixel_size_x, pixel_size_y, voxel_size_z = voxel_size\n",
    "\n",
    "    print(f\"Pixel size: {pixel_size_x:.3f} µm x {pixel_size_y:.3f} µm\")\n",
    "    print(f\"Voxel (Z-step) size: {voxel_size_z:.3f} µm\")"
   ]
  }
 ],
 "metadata": {
  "kernelspec": {
   "display_name": "default",
   "language": "python",
   "name": "python3"
  },
  "language_info": {
   "codemirror_mode": {
    "name": "ipython",
    "version": 3
   },
   "file_extension": ".py",
   "mimetype": "text/x-python",
   "name": "python",
   "nbconvert_exporter": "python",
   "pygments_lexer": "ipython3",
   "version": "3.10.18"
  }
 },
 "nbformat": 4,
 "nbformat_minor": 5
}
