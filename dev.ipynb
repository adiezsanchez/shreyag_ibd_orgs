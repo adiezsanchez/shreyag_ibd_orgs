{
 "cells": [
  {
   "cell_type": "code",
   "execution_count": 1,
   "id": "2d6f2848",
   "metadata": {},
   "outputs": [
    {
     "name": "stdout",
     "output_type": "stream",
     "text": [
      "\n",
      "\n",
      "Welcome to CellposeSAM, cellpose v\n",
      "cellpose version: \t4.0.6 \n",
      "platform:       \twin32 \n",
      "python version: \t3.10.18 \n",
      "torch version:  \t2.5.0! The neural network component of\n",
      "CPSAM is much larger than in previous versions and CPU excution is slow. \n",
      "We encourage users to use GPU/MPS if available. \n",
      "\n",
      "\n",
      "2025-11-01 14:18:00,247 [INFO] WRITING LOG OUTPUT TO C:\\Users\\adiez_cmic\\.cellpose\\run.log\n",
      "2025-11-01 14:18:00,247 [INFO] \n",
      "cellpose version: \t4.0.6 \n",
      "platform:       \twin32 \n",
      "python version: \t3.10.18 \n",
      "torch version:  \t2.5.0\n",
      "2025-11-01 14:18:00,320 [INFO] ** TORCH CUDA version installed and working. **\n",
      "2025-11-01 14:18:00,320 [INFO] ** TORCH CUDA version installed and working. **\n",
      "2025-11-01 14:18:00,320 [INFO] >>>> using GPU (CUDA)\n",
      "2025-11-01 14:18:01,216 [INFO] >>>> loading model C:\\Users\\adiez_cmic\\.cellpose\\models\\cpsam\n"
     ]
    }
   ],
   "source": [
    "import numpy as np\n",
    "from cellpose import models, core, io\n",
    "from pathlib import Path\n",
    "from pathlib import Path\n",
    "import napari\n",
    "import apoc\n",
    "from tqdm import tqdm\n",
    "import pyclesperanto_prototype as cle \n",
    "from tifffile import imwrite, imread\n",
    "from utils import list_images, read_image\n",
    "\n",
    "io.logger_setup() # run this to get printing of progress\n",
    "\n",
    "#Check if colab notebook instance has GPU access\n",
    "if core.use_gpu()==False:\n",
    "  raise ImportError(\"No GPU access, change your runtime\")\n",
    "\n",
    "#Load pre-trained Cellpose-SAM and Spotiflow models\n",
    "model = models.CellposeModel(gpu=True)"
   ]
  },
  {
   "cell_type": "code",
   "execution_count": 2,
   "id": "777aa243",
   "metadata": {},
   "outputs": [
    {
     "data": {
      "text/plain": [
       "['\\\\\\\\forskning.it.ntnu.no\\\\ntnu\\\\mh\\\\ikom\\\\cmic_konfokal\\\\lusie.f.kuraas\\\\PhD\\\\Nikon Spinning Disc\\\\25.09.19\\\\Plate 1 (occludin + claudin-2)\\\\E2_20x.nd2',\n",
       " '\\\\\\\\forskning.it.ntnu.no\\\\ntnu\\\\mh\\\\ikom\\\\cmic_konfokal\\\\lusie.f.kuraas\\\\PhD\\\\Nikon Spinning Disc\\\\25.09.19\\\\Plate 1 (occludin + claudin-2)\\\\E3_20x.nd2',\n",
       " '\\\\\\\\forskning.it.ntnu.no\\\\ntnu\\\\mh\\\\ikom\\\\cmic_konfokal\\\\lusie.f.kuraas\\\\PhD\\\\Nikon Spinning Disc\\\\25.09.19\\\\Plate 1 (occludin + claudin-2)\\\\E4_20x.nd2',\n",
       " '\\\\\\\\forskning.it.ntnu.no\\\\ntnu\\\\mh\\\\ikom\\\\cmic_konfokal\\\\lusie.f.kuraas\\\\PhD\\\\Nikon Spinning Disc\\\\25.09.19\\\\Plate 1 (occludin + claudin-2)\\\\E5_20x.nd2',\n",
       " '\\\\\\\\forskning.it.ntnu.no\\\\ntnu\\\\mh\\\\ikom\\\\cmic_konfokal\\\\lusie.f.kuraas\\\\PhD\\\\Nikon Spinning Disc\\\\25.09.19\\\\Plate 1 (occludin + claudin-2)\\\\E6_20x.nd2',\n",
       " '\\\\\\\\forskning.it.ntnu.no\\\\ntnu\\\\mh\\\\ikom\\\\cmic_konfokal\\\\lusie.f.kuraas\\\\PhD\\\\Nikon Spinning Disc\\\\25.09.19\\\\Plate 1 (occludin + claudin-2)\\\\E7_20x.nd2',\n",
       " '\\\\\\\\forskning.it.ntnu.no\\\\ntnu\\\\mh\\\\ikom\\\\cmic_konfokal\\\\lusie.f.kuraas\\\\PhD\\\\Nikon Spinning Disc\\\\25.09.19\\\\Plate 1 (occludin + claudin-2)\\\\E8_20x.nd2',\n",
       " '\\\\\\\\forskning.it.ntnu.no\\\\ntnu\\\\mh\\\\ikom\\\\cmic_konfokal\\\\lusie.f.kuraas\\\\PhD\\\\Nikon Spinning Disc\\\\25.09.19\\\\Plate 1 (occludin + claudin-2)\\\\E9_20x.nd2',\n",
       " '\\\\\\\\forskning.it.ntnu.no\\\\ntnu\\\\mh\\\\ikom\\\\cmic_konfokal\\\\lusie.f.kuraas\\\\PhD\\\\Nikon Spinning Disc\\\\25.09.19\\\\Plate 1 (occludin + claudin-2)\\\\F2_20x.nd2',\n",
       " '\\\\\\\\forskning.it.ntnu.no\\\\ntnu\\\\mh\\\\ikom\\\\cmic_konfokal\\\\lusie.f.kuraas\\\\PhD\\\\Nikon Spinning Disc\\\\25.09.19\\\\Plate 1 (occludin + claudin-2)\\\\F3_20x.nd2',\n",
       " '\\\\\\\\forskning.it.ntnu.no\\\\ntnu\\\\mh\\\\ikom\\\\cmic_konfokal\\\\lusie.f.kuraas\\\\PhD\\\\Nikon Spinning Disc\\\\25.09.19\\\\Plate 1 (occludin + claudin-2)\\\\F4_20x.nd2',\n",
       " '\\\\\\\\forskning.it.ntnu.no\\\\ntnu\\\\mh\\\\ikom\\\\cmic_konfokal\\\\lusie.f.kuraas\\\\PhD\\\\Nikon Spinning Disc\\\\25.09.19\\\\Plate 1 (occludin + claudin-2)\\\\F5_20x.nd2',\n",
       " '\\\\\\\\forskning.it.ntnu.no\\\\ntnu\\\\mh\\\\ikom\\\\cmic_konfokal\\\\lusie.f.kuraas\\\\PhD\\\\Nikon Spinning Disc\\\\25.09.19\\\\Plate 1 (occludin + claudin-2)\\\\F6_20x.nd2',\n",
       " '\\\\\\\\forskning.it.ntnu.no\\\\ntnu\\\\mh\\\\ikom\\\\cmic_konfokal\\\\lusie.f.kuraas\\\\PhD\\\\Nikon Spinning Disc\\\\25.09.19\\\\Plate 1 (occludin + claudin-2)\\\\F7_20x.nd2',\n",
       " '\\\\\\\\forskning.it.ntnu.no\\\\ntnu\\\\mh\\\\ikom\\\\cmic_konfokal\\\\lusie.f.kuraas\\\\PhD\\\\Nikon Spinning Disc\\\\25.09.19\\\\Plate 1 (occludin + claudin-2)\\\\F8_20x.nd2',\n",
       " '\\\\\\\\forskning.it.ntnu.no\\\\ntnu\\\\mh\\\\ikom\\\\cmic_konfokal\\\\lusie.f.kuraas\\\\PhD\\\\Nikon Spinning Disc\\\\25.09.19\\\\Plate 1 (occludin + claudin-2)\\\\F9_20x.nd2',\n",
       " '\\\\\\\\forskning.it.ntnu.no\\\\ntnu\\\\mh\\\\ikom\\\\cmic_konfokal\\\\lusie.f.kuraas\\\\PhD\\\\Nikon Spinning Disc\\\\25.09.19\\\\Plate 1 (occludin + claudin-2)\\\\G2_20x.nd2',\n",
       " '\\\\\\\\forskning.it.ntnu.no\\\\ntnu\\\\mh\\\\ikom\\\\cmic_konfokal\\\\lusie.f.kuraas\\\\PhD\\\\Nikon Spinning Disc\\\\25.09.19\\\\Plate 1 (occludin + claudin-2)\\\\G3_20x.nd2',\n",
       " '\\\\\\\\forskning.it.ntnu.no\\\\ntnu\\\\mh\\\\ikom\\\\cmic_konfokal\\\\lusie.f.kuraas\\\\PhD\\\\Nikon Spinning Disc\\\\25.09.19\\\\Plate 1 (occludin + claudin-2)\\\\G4_20x.nd2',\n",
       " '\\\\\\\\forskning.it.ntnu.no\\\\ntnu\\\\mh\\\\ikom\\\\cmic_konfokal\\\\lusie.f.kuraas\\\\PhD\\\\Nikon Spinning Disc\\\\25.09.19\\\\Plate 1 (occludin + claudin-2)\\\\G5_20x.nd2',\n",
       " '\\\\\\\\forskning.it.ntnu.no\\\\ntnu\\\\mh\\\\ikom\\\\cmic_konfokal\\\\lusie.f.kuraas\\\\PhD\\\\Nikon Spinning Disc\\\\25.09.19\\\\Plate 1 (occludin + claudin-2)\\\\G6_20x.nd2',\n",
       " '\\\\\\\\forskning.it.ntnu.no\\\\ntnu\\\\mh\\\\ikom\\\\cmic_konfokal\\\\lusie.f.kuraas\\\\PhD\\\\Nikon Spinning Disc\\\\25.09.19\\\\Plate 1 (occludin + claudin-2)\\\\G7_20x.nd2',\n",
       " '\\\\\\\\forskning.it.ntnu.no\\\\ntnu\\\\mh\\\\ikom\\\\cmic_konfokal\\\\lusie.f.kuraas\\\\PhD\\\\Nikon Spinning Disc\\\\25.09.19\\\\Plate 1 (occludin + claudin-2)\\\\G8_20x.nd2',\n",
       " '\\\\\\\\forskning.it.ntnu.no\\\\ntnu\\\\mh\\\\ikom\\\\cmic_konfokal\\\\lusie.f.kuraas\\\\PhD\\\\Nikon Spinning Disc\\\\25.09.19\\\\Plate 1 (occludin + claudin-2)\\\\G9_20x.nd2',\n",
       " '\\\\\\\\forskning.it.ntnu.no\\\\ntnu\\\\mh\\\\ikom\\\\cmic_konfokal\\\\lusie.f.kuraas\\\\PhD\\\\Nikon Spinning Disc\\\\25.09.19\\\\Plate 1 (occludin + claudin-2)\\\\Overview.nd2']"
      ]
     },
     "execution_count": 2,
     "metadata": {},
     "output_type": "execute_result"
    }
   ],
   "source": [
    "# Copy the path where your images are stored, you can use absolute or relative paths to point at other disk locations\n",
    "directory_path = Path(r\"\\\\forskning.it.ntnu.no\\ntnu\\mh\\ikom\\cmic_konfokal\\lusie.f.kuraas\\PhD\\Nikon Spinning Disc\\25.09.19\\Plate 1 (occludin + claudin-2)\")\n",
    "\n",
    "# Iterate through the .czi and .nd2 files in the directory\n",
    "images = list_images(directory_path)\n",
    "\n",
    "# Image size reduction (downsampling) to improve processing times (slicing, not lossless compression)\n",
    "slicing_factor_xy = None # Use 2 or 4 for downsampling in xy (None for lossless)\n",
    "\n",
    "images"
   ]
  },
  {
   "cell_type": "code",
   "execution_count": 3,
   "id": "e06f0871",
   "metadata": {},
   "outputs": [],
   "source": [
    "viewer = napari.Viewer(ndisplay=2)"
   ]
  },
  {
   "cell_type": "code",
   "execution_count": 4,
   "id": "72b15d1c",
   "metadata": {},
   "outputs": [
    {
     "name": "stdout",
     "output_type": "stream",
     "text": [
      "\n",
      "Image analyzed: E2_20x\n"
     ]
    },
    {
     "data": {
      "text/plain": [
       "<Image layer 'img' at 0x1a58cad1f30>"
      ]
     },
     "execution_count": 4,
     "metadata": {},
     "output_type": "execute_result"
    }
   ],
   "source": [
    "# Explore a different image (0 defines the first image in the directory)\n",
    "image = images[0]\n",
    "\n",
    "# Read image, apply slicing if needed and return filename and img as a np array\n",
    "img, filename = read_image(image, slicing_factor_xy)\n",
    "\n",
    "# Extract well_id\n",
    "well_id = filename.split(\"_\")[0]\n",
    "\n",
    "# Open one of the multipositions in the img file\n",
    "img = img[2]\n",
    "\n",
    "viewer.add_image(img)"
   ]
  },
  {
   "cell_type": "code",
   "execution_count": 5,
   "id": "bae9ab36",
   "metadata": {},
   "outputs": [
    {
     "data": {
      "text/plain": [
       "(15, 5, 1360, 1360)"
      ]
     },
     "execution_count": 5,
     "metadata": {},
     "output_type": "execute_result"
    }
   ],
   "source": [
    "img.shape"
   ]
  },
  {
   "cell_type": "code",
   "execution_count": 6,
   "id": "33631e3d",
   "metadata": {},
   "outputs": [
    {
     "data": {
      "text/plain": [
       "(5, 15, 1360, 1360)"
      ]
     },
     "execution_count": 6,
     "metadata": {},
     "output_type": "execute_result"
    }
   ],
   "source": [
    "img = img.transpose(1, 0, 2, 3)\n",
    "img.shape"
   ]
  },
  {
   "cell_type": "code",
   "execution_count": 7,
   "id": "1930ce8e",
   "metadata": {},
   "outputs": [
    {
     "data": {
      "text/plain": [
       "(2, 15, 1360, 1360)"
      ]
     },
     "execution_count": 7,
     "metadata": {},
     "output_type": "execute_result"
    }
   ],
   "source": [
    "# Cellmask and nuclei are in position 2 and 3 respectively\n",
    "\n",
    "# if you want to combine two stains to create your \"cytoplasm\" channel\n",
    "# in this example indices 0, 1 and 2 (1st, 2nd and 3rd) have cellular stains\n",
    "# and nuclei are in index 3 (4th channel)\n",
    "\n",
    "img_cp = np.stack((img[[0,1,2]].sum(axis=0), img[3]), axis=0)\n",
    "\n",
    "img_cp.shape"
   ]
  },
  {
   "cell_type": "code",
   "execution_count": 8,
   "id": "324c4bbc",
   "metadata": {},
   "outputs": [
    {
     "data": {
      "text/plain": [
       "<Image layer 'img_cp' at 0x1a583670be0>"
      ]
     },
     "execution_count": 8,
     "metadata": {},
     "output_type": "execute_result"
    }
   ],
   "source": [
    "viewer.add_image(img_cp)"
   ]
  },
  {
   "cell_type": "code",
   "execution_count": 9,
   "id": "7ee5073c",
   "metadata": {},
   "outputs": [
    {
     "name": "stdout",
     "output_type": "stream",
     "text": [
      "2025-11-01 14:29:00,104 [INFO] running YX: 15 planes of size (1360, 1360)\n",
      "2025-11-01 14:29:00,107 [INFO] 0%|          | 0/15 [00:00<?, ?it/s]\n",
      "2025-11-01 14:29:13,489 [INFO] 100%|##########| 15/15 [00:13<00:00,  1.12it/s]\n",
      "2025-11-01 14:29:13,628 [INFO] running ZY: 1360 planes of size (15, 1360)\n",
      "2025-11-01 14:29:13,628 [INFO] 0%|          | 0/1360 [00:00<?, ?it/s]\n",
      "2025-11-01 14:29:43,711 [INFO] 18%|#8        | 246/1360 [00:30<02:16,  8.18it/s]\n",
      "2025-11-01 14:30:00,144 [INFO] 18%|#8        | 246/1360 [00:46<02:16,  8.18it/s]\n",
      "2025-11-01 14:30:12,330 [INFO] 35%|###4      | 474/1360 [00:58<01:49,  8.07it/s]\n"
     ]
    },
    {
     "ename": "KeyboardInterrupt",
     "evalue": "",
     "output_type": "error",
     "traceback": [
      "\u001b[1;31m---------------------------------------------------------------------------\u001b[0m",
      "\u001b[1;31mKeyboardInterrupt\u001b[0m                         Traceback (most recent call last)",
      "Cell \u001b[1;32mIn[9], line 1\u001b[0m\n\u001b[1;32m----> 1\u001b[0m labels, flows, styles \u001b[38;5;241m=\u001b[39m \u001b[43mmodel\u001b[49m\u001b[38;5;241;43m.\u001b[39;49m\u001b[43meval\u001b[49m\u001b[43m(\u001b[49m\u001b[43mimg_cp\u001b[49m\u001b[43m,\u001b[49m\u001b[43m \u001b[49m\u001b[43mchannel_axis\u001b[49m\u001b[38;5;241;43m=\u001b[39;49m\u001b[38;5;241;43m0\u001b[39;49m\u001b[43m,\u001b[49m\u001b[43m \u001b[49m\u001b[43mz_axis\u001b[49m\u001b[38;5;241;43m=\u001b[39;49m\u001b[38;5;241;43m1\u001b[39;49m\u001b[43m,\u001b[49m\u001b[43m \u001b[49m\u001b[43mdo_3D\u001b[49m\u001b[38;5;241;43m=\u001b[39;49m\u001b[38;5;28;43;01mTrue\u001b[39;49;00m\u001b[43m,\u001b[49m\u001b[43m \u001b[49m\u001b[43mniter\u001b[49m\u001b[38;5;241;43m=\u001b[39;49m\u001b[38;5;28;43;01mNone\u001b[39;49;00m\u001b[43m)\u001b[49m \u001b[38;5;66;03m# need to check the arguments\u001b[39;00m\n\u001b[0;32m      2\u001b[0m viewer\u001b[38;5;241m.\u001b[39madd_labels(labels)\n",
      "File \u001b[1;32mc:\\Users\\adiez_cmic\\github_repos\\shreyag_ibd_orgs\\.pixi\\envs\\default\\lib\\site-packages\\cellpose\\models.py:313\u001b[0m, in \u001b[0;36mCellposeModel.eval\u001b[1;34m(self, x, batch_size, resample, channels, channel_axis, z_axis, normalize, invert, rescale, diameter, flow_threshold, cellprob_threshold, do_3D, anisotropy, flow3D_smooth, stitch_threshold, min_size, max_size_fraction, niter, augment, tile_overlap, bsize, compute_masks, progress)\u001b[0m\n\u001b[0;32m    310\u001b[0m \u001b[38;5;28;01mif\u001b[39;00m \u001b[38;5;28misinstance\u001b[39m(anisotropy, (\u001b[38;5;28mfloat\u001b[39m, \u001b[38;5;28mint\u001b[39m)) \u001b[38;5;129;01mand\u001b[39;00m image_scaling:\n\u001b[0;32m    311\u001b[0m     anisotropy \u001b[38;5;241m=\u001b[39m image_scaling \u001b[38;5;241m*\u001b[39m anisotropy\n\u001b[1;32m--> 313\u001b[0m dP, cellprob, styles \u001b[38;5;241m=\u001b[39m \u001b[38;5;28;43mself\u001b[39;49m\u001b[38;5;241;43m.\u001b[39;49m\u001b[43m_run_net\u001b[49m\u001b[43m(\u001b[49m\n\u001b[0;32m    314\u001b[0m \u001b[43m    \u001b[49m\u001b[43mx\u001b[49m\u001b[43m,\u001b[49m\u001b[43m \u001b[49m\n\u001b[0;32m    315\u001b[0m \u001b[43m    \u001b[49m\u001b[43maugment\u001b[49m\u001b[38;5;241;43m=\u001b[39;49m\u001b[43maugment\u001b[49m\u001b[43m,\u001b[49m\u001b[43m \u001b[49m\n\u001b[0;32m    316\u001b[0m \u001b[43m    \u001b[49m\u001b[43mbatch_size\u001b[49m\u001b[38;5;241;43m=\u001b[39;49m\u001b[43mbatch_size\u001b[49m\u001b[43m,\u001b[49m\u001b[43m \u001b[49m\n\u001b[0;32m    317\u001b[0m \u001b[43m    \u001b[49m\u001b[43mtile_overlap\u001b[49m\u001b[38;5;241;43m=\u001b[39;49m\u001b[43mtile_overlap\u001b[49m\u001b[43m,\u001b[49m\u001b[43m \u001b[49m\n\u001b[0;32m    318\u001b[0m \u001b[43m    \u001b[49m\u001b[43mbsize\u001b[49m\u001b[38;5;241;43m=\u001b[39;49m\u001b[43mbsize\u001b[49m\u001b[43m,\u001b[49m\n\u001b[0;32m    319\u001b[0m \u001b[43m    \u001b[49m\u001b[43mdo_3D\u001b[49m\u001b[38;5;241;43m=\u001b[39;49m\u001b[43mdo_3D\u001b[49m\u001b[43m,\u001b[49m\u001b[43m \u001b[49m\n\u001b[0;32m    320\u001b[0m \u001b[43m    \u001b[49m\u001b[43manisotropy\u001b[49m\u001b[38;5;241;43m=\u001b[39;49m\u001b[43manisotropy\u001b[49m\u001b[43m)\u001b[49m\n\u001b[0;32m    322\u001b[0m \u001b[38;5;28;01mif\u001b[39;00m do_3D:    \n\u001b[0;32m    323\u001b[0m     \u001b[38;5;28;01mif\u001b[39;00m flow3D_smooth \u001b[38;5;241m>\u001b[39m \u001b[38;5;241m0\u001b[39m:\n",
      "File \u001b[1;32mc:\\Users\\adiez_cmic\\github_repos\\shreyag_ibd_orgs\\.pixi\\envs\\default\\lib\\site-packages\\cellpose\\models.py:470\u001b[0m, in \u001b[0;36mCellposeModel._run_net\u001b[1;34m(self, x, augment, batch_size, tile_overlap, bsize, anisotropy, do_3D)\u001b[0m\n\u001b[0;32m    466\u001b[0m     models_logger\u001b[38;5;241m.\u001b[39minfo(\u001b[38;5;124mf\u001b[39m\u001b[38;5;124m\"\u001b[39m\u001b[38;5;124mresizing 3D image with anisotropy=\u001b[39m\u001b[38;5;132;01m{\u001b[39;00manisotropy\u001b[38;5;132;01m}\u001b[39;00m\u001b[38;5;124m\"\u001b[39m)\n\u001b[0;32m    467\u001b[0m     x \u001b[38;5;241m=\u001b[39m transforms\u001b[38;5;241m.\u001b[39mresize_image(x\u001b[38;5;241m.\u001b[39mtranspose(\u001b[38;5;241m1\u001b[39m,\u001b[38;5;241m0\u001b[39m,\u001b[38;5;241m2\u001b[39m,\u001b[38;5;241m3\u001b[39m),\n\u001b[0;32m    468\u001b[0m                             Ly\u001b[38;5;241m=\u001b[39m\u001b[38;5;28mint\u001b[39m(Lz\u001b[38;5;241m*\u001b[39manisotropy), \n\u001b[0;32m    469\u001b[0m                             Lx\u001b[38;5;241m=\u001b[39m\u001b[38;5;28mint\u001b[39m(Lx))\u001b[38;5;241m.\u001b[39mtranspose(\u001b[38;5;241m1\u001b[39m,\u001b[38;5;241m0\u001b[39m,\u001b[38;5;241m2\u001b[39m,\u001b[38;5;241m3\u001b[39m)\n\u001b[1;32m--> 470\u001b[0m yf, styles \u001b[38;5;241m=\u001b[39m \u001b[43mrun_3D\u001b[49m\u001b[43m(\u001b[49m\u001b[38;5;28;43mself\u001b[39;49m\u001b[38;5;241;43m.\u001b[39;49m\u001b[43mnet\u001b[49m\u001b[43m,\u001b[49m\u001b[43m \u001b[49m\u001b[43mx\u001b[49m\u001b[43m,\u001b[49m\n\u001b[0;32m    471\u001b[0m \u001b[43m                    \u001b[49m\u001b[43mbatch_size\u001b[49m\u001b[38;5;241;43m=\u001b[39;49m\u001b[43mbatch_size\u001b[49m\u001b[43m,\u001b[49m\u001b[43m \u001b[49m\u001b[43maugment\u001b[49m\u001b[38;5;241;43m=\u001b[39;49m\u001b[43maugment\u001b[49m\u001b[43m,\u001b[49m\u001b[43m  \u001b[49m\n\u001b[0;32m    472\u001b[0m \u001b[43m                    \u001b[49m\u001b[43mtile_overlap\u001b[49m\u001b[38;5;241;43m=\u001b[39;49m\u001b[43mtile_overlap\u001b[49m\u001b[43m,\u001b[49m\u001b[43m \u001b[49m\n\u001b[0;32m    473\u001b[0m \u001b[43m                    \u001b[49m\u001b[43mbsize\u001b[49m\u001b[38;5;241;43m=\u001b[39;49m\u001b[43mbsize\u001b[49m\n\u001b[0;32m    474\u001b[0m \u001b[43m                    \u001b[49m\u001b[43m)\u001b[49m\n\u001b[0;32m    475\u001b[0m cellprob \u001b[38;5;241m=\u001b[39m yf[\u001b[38;5;241m.\u001b[39m\u001b[38;5;241m.\u001b[39m\u001b[38;5;241m.\u001b[39m, \u001b[38;5;241m-\u001b[39m\u001b[38;5;241m1\u001b[39m]\n\u001b[0;32m    476\u001b[0m dP \u001b[38;5;241m=\u001b[39m yf[\u001b[38;5;241m.\u001b[39m\u001b[38;5;241m.\u001b[39m\u001b[38;5;241m.\u001b[39m, :\u001b[38;5;241m-\u001b[39m\u001b[38;5;241m1\u001b[39m]\u001b[38;5;241m.\u001b[39mtranspose((\u001b[38;5;241m3\u001b[39m, \u001b[38;5;241m0\u001b[39m, \u001b[38;5;241m1\u001b[39m, \u001b[38;5;241m2\u001b[39m))\n",
      "File \u001b[1;32mc:\\Users\\adiez_cmic\\github_repos\\shreyag_ibd_orgs\\.pixi\\envs\\default\\lib\\site-packages\\cellpose\\core.py:295\u001b[0m, in \u001b[0;36mrun_3D\u001b[1;34m(net, imgs, batch_size, augment, tile_overlap, bsize, net_ortho, progress)\u001b[0m\n\u001b[0;32m    292\u001b[0m \u001b[38;5;66;03m# per image\u001b[39;00m\n\u001b[0;32m    293\u001b[0m core_logger\u001b[38;5;241m.\u001b[39minfo(\u001b[38;5;124m\"\u001b[39m\u001b[38;5;124mrunning \u001b[39m\u001b[38;5;132;01m%s\u001b[39;00m\u001b[38;5;124m: \u001b[39m\u001b[38;5;132;01m%d\u001b[39;00m\u001b[38;5;124m planes of size (\u001b[39m\u001b[38;5;132;01m%d\u001b[39;00m\u001b[38;5;124m, \u001b[39m\u001b[38;5;132;01m%d\u001b[39;00m\u001b[38;5;124m)\u001b[39m\u001b[38;5;124m\"\u001b[39m \u001b[38;5;241m%\u001b[39m\n\u001b[0;32m    294\u001b[0m                  (sstr[p], shape[pm[p][\u001b[38;5;241m0\u001b[39m]], shape[pm[p][\u001b[38;5;241m1\u001b[39m]], shape[pm[p][\u001b[38;5;241m2\u001b[39m]]))\n\u001b[1;32m--> 295\u001b[0m y, style \u001b[38;5;241m=\u001b[39m \u001b[43mrun_net\u001b[49m\u001b[43m(\u001b[49m\u001b[43mnet\u001b[49m\u001b[43m,\u001b[49m\n\u001b[0;32m    296\u001b[0m \u001b[43m                   \u001b[49m\u001b[43mxsl\u001b[49m\u001b[43m,\u001b[49m\u001b[43m \u001b[49m\u001b[43mbatch_size\u001b[49m\u001b[38;5;241;43m=\u001b[39;49m\u001b[43mbatch_size\u001b[49m\u001b[43m,\u001b[49m\u001b[43m \u001b[49m\u001b[43maugment\u001b[49m\u001b[38;5;241;43m=\u001b[39;49m\u001b[43maugment\u001b[49m\u001b[43m,\u001b[49m\u001b[43m \u001b[49m\n\u001b[0;32m    297\u001b[0m \u001b[43m                   \u001b[49m\u001b[43mbsize\u001b[49m\u001b[38;5;241;43m=\u001b[39;49m\u001b[43mbsize\u001b[49m\u001b[43m,\u001b[49m\u001b[43m \u001b[49m\u001b[43mtile_overlap\u001b[49m\u001b[38;5;241;43m=\u001b[39;49m\u001b[43mtile_overlap\u001b[49m\u001b[43m,\u001b[49m\u001b[43m \u001b[49m\n\u001b[0;32m    298\u001b[0m \u001b[43m                   \u001b[49m\u001b[43mrsz\u001b[49m\u001b[38;5;241;43m=\u001b[39;49m\u001b[38;5;28;43;01mNone\u001b[39;49;00m\u001b[43m)\u001b[49m\n\u001b[0;32m    299\u001b[0m yf[\u001b[38;5;241m.\u001b[39m\u001b[38;5;241m.\u001b[39m\u001b[38;5;241m.\u001b[39m, \u001b[38;5;241m-\u001b[39m\u001b[38;5;241m1\u001b[39m] \u001b[38;5;241m+\u001b[39m\u001b[38;5;241m=\u001b[39m y[\u001b[38;5;241m.\u001b[39m\u001b[38;5;241m.\u001b[39m\u001b[38;5;241m.\u001b[39m, \u001b[38;5;241m-\u001b[39m\u001b[38;5;241m1\u001b[39m]\u001b[38;5;241m.\u001b[39mtranspose(ipm[p])\n\u001b[0;32m    300\u001b[0m \u001b[38;5;28;01mfor\u001b[39;00m j \u001b[38;5;129;01min\u001b[39;00m \u001b[38;5;28mrange\u001b[39m(\u001b[38;5;241m2\u001b[39m):\n",
      "File \u001b[1;32mc:\\Users\\adiez_cmic\\github_repos\\shreyag_ibd_orgs\\.pixi\\envs\\default\\lib\\site-packages\\cellpose\\core.py:230\u001b[0m, in \u001b[0;36mrun_net\u001b[1;34m(net, imgi, batch_size, augment, tile_overlap, bsize, rsz)\u001b[0m\n\u001b[0;32m    228\u001b[0m \u001b[38;5;28;01mfor\u001b[39;00m j \u001b[38;5;129;01min\u001b[39;00m \u001b[38;5;28mrange\u001b[39m(\u001b[38;5;241m0\u001b[39m, IMGa\u001b[38;5;241m.\u001b[39mshape[\u001b[38;5;241m0\u001b[39m], batch_size):\n\u001b[0;32m    229\u001b[0m     bslc \u001b[38;5;241m=\u001b[39m \u001b[38;5;28mslice\u001b[39m(j, \u001b[38;5;28mmin\u001b[39m(j \u001b[38;5;241m+\u001b[39m batch_size, IMGa\u001b[38;5;241m.\u001b[39mshape[\u001b[38;5;241m0\u001b[39m]))\n\u001b[1;32m--> 230\u001b[0m     ya0, stylea0 \u001b[38;5;241m=\u001b[39m \u001b[43m_forward\u001b[49m\u001b[43m(\u001b[49m\u001b[43mnet\u001b[49m\u001b[43m,\u001b[49m\u001b[43m \u001b[49m\u001b[43mIMGa\u001b[49m\u001b[43m[\u001b[49m\u001b[43mbslc\u001b[49m\u001b[43m]\u001b[49m\u001b[43m)\u001b[49m\n\u001b[0;32m    231\u001b[0m     \u001b[38;5;28;01mif\u001b[39;00m j \u001b[38;5;241m==\u001b[39m \u001b[38;5;241m0\u001b[39m:\n\u001b[0;32m    232\u001b[0m         nout \u001b[38;5;241m=\u001b[39m ya0\u001b[38;5;241m.\u001b[39mshape[\u001b[38;5;241m1\u001b[39m]\n",
      "File \u001b[1;32mc:\\Users\\adiez_cmic\\github_repos\\shreyag_ibd_orgs\\.pixi\\envs\\default\\lib\\site-packages\\cellpose\\core.py:158\u001b[0m, in \u001b[0;36m_forward\u001b[1;34m(net, x)\u001b[0m\n\u001b[0;32m    156\u001b[0m net\u001b[38;5;241m.\u001b[39meval()\n\u001b[0;32m    157\u001b[0m \u001b[38;5;28;01mwith\u001b[39;00m torch\u001b[38;5;241m.\u001b[39mno_grad():\n\u001b[1;32m--> 158\u001b[0m     y, style \u001b[38;5;241m=\u001b[39m \u001b[43mnet\u001b[49m\u001b[43m(\u001b[49m\u001b[43mX\u001b[49m\u001b[43m)\u001b[49m[:\u001b[38;5;241m2\u001b[39m]\n\u001b[0;32m    159\u001b[0m \u001b[38;5;28;01mdel\u001b[39;00m X\n\u001b[0;32m    160\u001b[0m y \u001b[38;5;241m=\u001b[39m _from_device(y)\n",
      "File \u001b[1;32mc:\\Users\\adiez_cmic\\github_repos\\shreyag_ibd_orgs\\.pixi\\envs\\default\\lib\\site-packages\\torch\\nn\\modules\\module.py:1736\u001b[0m, in \u001b[0;36mModule._wrapped_call_impl\u001b[1;34m(self, *args, **kwargs)\u001b[0m\n\u001b[0;32m   1734\u001b[0m     \u001b[38;5;28;01mreturn\u001b[39;00m \u001b[38;5;28mself\u001b[39m\u001b[38;5;241m.\u001b[39m_compiled_call_impl(\u001b[38;5;241m*\u001b[39margs, \u001b[38;5;241m*\u001b[39m\u001b[38;5;241m*\u001b[39mkwargs)  \u001b[38;5;66;03m# type: ignore[misc]\u001b[39;00m\n\u001b[0;32m   1735\u001b[0m \u001b[38;5;28;01melse\u001b[39;00m:\n\u001b[1;32m-> 1736\u001b[0m     \u001b[38;5;28;01mreturn\u001b[39;00m \u001b[38;5;28mself\u001b[39m\u001b[38;5;241m.\u001b[39m_call_impl(\u001b[38;5;241m*\u001b[39margs, \u001b[38;5;241m*\u001b[39m\u001b[38;5;241m*\u001b[39mkwargs)\n",
      "File \u001b[1;32mc:\\Users\\adiez_cmic\\github_repos\\shreyag_ibd_orgs\\.pixi\\envs\\default\\lib\\site-packages\\torch\\nn\\modules\\module.py:1747\u001b[0m, in \u001b[0;36mModule._call_impl\u001b[1;34m(self, *args, **kwargs)\u001b[0m\n\u001b[0;32m   1742\u001b[0m \u001b[38;5;66;03m# If we don't have any hooks, we want to skip the rest of the logic in\u001b[39;00m\n\u001b[0;32m   1743\u001b[0m \u001b[38;5;66;03m# this function, and just call forward.\u001b[39;00m\n\u001b[0;32m   1744\u001b[0m \u001b[38;5;28;01mif\u001b[39;00m \u001b[38;5;129;01mnot\u001b[39;00m (\u001b[38;5;28mself\u001b[39m\u001b[38;5;241m.\u001b[39m_backward_hooks \u001b[38;5;129;01mor\u001b[39;00m \u001b[38;5;28mself\u001b[39m\u001b[38;5;241m.\u001b[39m_backward_pre_hooks \u001b[38;5;129;01mor\u001b[39;00m \u001b[38;5;28mself\u001b[39m\u001b[38;5;241m.\u001b[39m_forward_hooks \u001b[38;5;129;01mor\u001b[39;00m \u001b[38;5;28mself\u001b[39m\u001b[38;5;241m.\u001b[39m_forward_pre_hooks\n\u001b[0;32m   1745\u001b[0m         \u001b[38;5;129;01mor\u001b[39;00m _global_backward_pre_hooks \u001b[38;5;129;01mor\u001b[39;00m _global_backward_hooks\n\u001b[0;32m   1746\u001b[0m         \u001b[38;5;129;01mor\u001b[39;00m _global_forward_hooks \u001b[38;5;129;01mor\u001b[39;00m _global_forward_pre_hooks):\n\u001b[1;32m-> 1747\u001b[0m     \u001b[38;5;28;01mreturn\u001b[39;00m forward_call(\u001b[38;5;241m*\u001b[39margs, \u001b[38;5;241m*\u001b[39m\u001b[38;5;241m*\u001b[39mkwargs)\n\u001b[0;32m   1749\u001b[0m result \u001b[38;5;241m=\u001b[39m \u001b[38;5;28;01mNone\u001b[39;00m\n\u001b[0;32m   1750\u001b[0m called_always_called_hooks \u001b[38;5;241m=\u001b[39m \u001b[38;5;28mset\u001b[39m()\n",
      "File \u001b[1;32mc:\\Users\\adiez_cmic\\github_repos\\shreyag_ibd_orgs\\.pixi\\envs\\default\\lib\\site-packages\\cellpose\\vit_sam.py:70\u001b[0m, in \u001b[0;36mTransformer.forward\u001b[1;34m(self, x)\u001b[0m\n\u001b[0;32m     68\u001b[0m \u001b[38;5;28;01melse\u001b[39;00m:\n\u001b[0;32m     69\u001b[0m     \u001b[38;5;28;01mfor\u001b[39;00m blk \u001b[38;5;129;01min\u001b[39;00m \u001b[38;5;28mself\u001b[39m\u001b[38;5;241m.\u001b[39mencoder\u001b[38;5;241m.\u001b[39mblocks:\n\u001b[1;32m---> 70\u001b[0m         x \u001b[38;5;241m=\u001b[39m \u001b[43mblk\u001b[49m\u001b[43m(\u001b[49m\u001b[43mx\u001b[49m\u001b[43m)\u001b[49m\n\u001b[0;32m     72\u001b[0m x \u001b[38;5;241m=\u001b[39m \u001b[38;5;28mself\u001b[39m\u001b[38;5;241m.\u001b[39mencoder\u001b[38;5;241m.\u001b[39mneck(x\u001b[38;5;241m.\u001b[39mpermute(\u001b[38;5;241m0\u001b[39m, \u001b[38;5;241m3\u001b[39m, \u001b[38;5;241m1\u001b[39m, \u001b[38;5;241m2\u001b[39m))\n\u001b[0;32m     74\u001b[0m \u001b[38;5;66;03m# readout is changed here\u001b[39;00m\n",
      "File \u001b[1;32mc:\\Users\\adiez_cmic\\github_repos\\shreyag_ibd_orgs\\.pixi\\envs\\default\\lib\\site-packages\\torch\\nn\\modules\\module.py:1736\u001b[0m, in \u001b[0;36mModule._wrapped_call_impl\u001b[1;34m(self, *args, **kwargs)\u001b[0m\n\u001b[0;32m   1734\u001b[0m     \u001b[38;5;28;01mreturn\u001b[39;00m \u001b[38;5;28mself\u001b[39m\u001b[38;5;241m.\u001b[39m_compiled_call_impl(\u001b[38;5;241m*\u001b[39margs, \u001b[38;5;241m*\u001b[39m\u001b[38;5;241m*\u001b[39mkwargs)  \u001b[38;5;66;03m# type: ignore[misc]\u001b[39;00m\n\u001b[0;32m   1735\u001b[0m \u001b[38;5;28;01melse\u001b[39;00m:\n\u001b[1;32m-> 1736\u001b[0m     \u001b[38;5;28;01mreturn\u001b[39;00m \u001b[38;5;28mself\u001b[39m\u001b[38;5;241m.\u001b[39m_call_impl(\u001b[38;5;241m*\u001b[39margs, \u001b[38;5;241m*\u001b[39m\u001b[38;5;241m*\u001b[39mkwargs)\n",
      "File \u001b[1;32mc:\\Users\\adiez_cmic\\github_repos\\shreyag_ibd_orgs\\.pixi\\envs\\default\\lib\\site-packages\\torch\\nn\\modules\\module.py:1747\u001b[0m, in \u001b[0;36mModule._call_impl\u001b[1;34m(self, *args, **kwargs)\u001b[0m\n\u001b[0;32m   1742\u001b[0m \u001b[38;5;66;03m# If we don't have any hooks, we want to skip the rest of the logic in\u001b[39;00m\n\u001b[0;32m   1743\u001b[0m \u001b[38;5;66;03m# this function, and just call forward.\u001b[39;00m\n\u001b[0;32m   1744\u001b[0m \u001b[38;5;28;01mif\u001b[39;00m \u001b[38;5;129;01mnot\u001b[39;00m (\u001b[38;5;28mself\u001b[39m\u001b[38;5;241m.\u001b[39m_backward_hooks \u001b[38;5;129;01mor\u001b[39;00m \u001b[38;5;28mself\u001b[39m\u001b[38;5;241m.\u001b[39m_backward_pre_hooks \u001b[38;5;129;01mor\u001b[39;00m \u001b[38;5;28mself\u001b[39m\u001b[38;5;241m.\u001b[39m_forward_hooks \u001b[38;5;129;01mor\u001b[39;00m \u001b[38;5;28mself\u001b[39m\u001b[38;5;241m.\u001b[39m_forward_pre_hooks\n\u001b[0;32m   1745\u001b[0m         \u001b[38;5;129;01mor\u001b[39;00m _global_backward_pre_hooks \u001b[38;5;129;01mor\u001b[39;00m _global_backward_hooks\n\u001b[0;32m   1746\u001b[0m         \u001b[38;5;129;01mor\u001b[39;00m _global_forward_hooks \u001b[38;5;129;01mor\u001b[39;00m _global_forward_pre_hooks):\n\u001b[1;32m-> 1747\u001b[0m     \u001b[38;5;28;01mreturn\u001b[39;00m forward_call(\u001b[38;5;241m*\u001b[39margs, \u001b[38;5;241m*\u001b[39m\u001b[38;5;241m*\u001b[39mkwargs)\n\u001b[0;32m   1749\u001b[0m result \u001b[38;5;241m=\u001b[39m \u001b[38;5;28;01mNone\u001b[39;00m\n\u001b[0;32m   1750\u001b[0m called_always_called_hooks \u001b[38;5;241m=\u001b[39m \u001b[38;5;28mset\u001b[39m()\n",
      "File \u001b[1;32mc:\\Users\\adiez_cmic\\github_repos\\shreyag_ibd_orgs\\.pixi\\envs\\default\\lib\\site-packages\\segment_anything\\modeling\\image_encoder.py:174\u001b[0m, in \u001b[0;36mBlock.forward\u001b[1;34m(self, x)\u001b[0m\n\u001b[0;32m    171\u001b[0m     H, W \u001b[38;5;241m=\u001b[39m x\u001b[38;5;241m.\u001b[39mshape[\u001b[38;5;241m1\u001b[39m], x\u001b[38;5;241m.\u001b[39mshape[\u001b[38;5;241m2\u001b[39m]\n\u001b[0;32m    172\u001b[0m     x, pad_hw \u001b[38;5;241m=\u001b[39m window_partition(x, \u001b[38;5;28mself\u001b[39m\u001b[38;5;241m.\u001b[39mwindow_size)\n\u001b[1;32m--> 174\u001b[0m x \u001b[38;5;241m=\u001b[39m \u001b[38;5;28;43mself\u001b[39;49m\u001b[38;5;241;43m.\u001b[39;49m\u001b[43mattn\u001b[49m\u001b[43m(\u001b[49m\u001b[43mx\u001b[49m\u001b[43m)\u001b[49m\n\u001b[0;32m    175\u001b[0m \u001b[38;5;66;03m# Reverse window partition\u001b[39;00m\n\u001b[0;32m    176\u001b[0m \u001b[38;5;28;01mif\u001b[39;00m \u001b[38;5;28mself\u001b[39m\u001b[38;5;241m.\u001b[39mwindow_size \u001b[38;5;241m>\u001b[39m \u001b[38;5;241m0\u001b[39m:\n",
      "File \u001b[1;32mc:\\Users\\adiez_cmic\\github_repos\\shreyag_ibd_orgs\\.pixi\\envs\\default\\lib\\site-packages\\torch\\nn\\modules\\module.py:1736\u001b[0m, in \u001b[0;36mModule._wrapped_call_impl\u001b[1;34m(self, *args, **kwargs)\u001b[0m\n\u001b[0;32m   1734\u001b[0m     \u001b[38;5;28;01mreturn\u001b[39;00m \u001b[38;5;28mself\u001b[39m\u001b[38;5;241m.\u001b[39m_compiled_call_impl(\u001b[38;5;241m*\u001b[39margs, \u001b[38;5;241m*\u001b[39m\u001b[38;5;241m*\u001b[39mkwargs)  \u001b[38;5;66;03m# type: ignore[misc]\u001b[39;00m\n\u001b[0;32m   1735\u001b[0m \u001b[38;5;28;01melse\u001b[39;00m:\n\u001b[1;32m-> 1736\u001b[0m     \u001b[38;5;28;01mreturn\u001b[39;00m \u001b[38;5;28mself\u001b[39m\u001b[38;5;241m.\u001b[39m_call_impl(\u001b[38;5;241m*\u001b[39margs, \u001b[38;5;241m*\u001b[39m\u001b[38;5;241m*\u001b[39mkwargs)\n",
      "File \u001b[1;32mc:\\Users\\adiez_cmic\\github_repos\\shreyag_ibd_orgs\\.pixi\\envs\\default\\lib\\site-packages\\torch\\nn\\modules\\module.py:1747\u001b[0m, in \u001b[0;36mModule._call_impl\u001b[1;34m(self, *args, **kwargs)\u001b[0m\n\u001b[0;32m   1742\u001b[0m \u001b[38;5;66;03m# If we don't have any hooks, we want to skip the rest of the logic in\u001b[39;00m\n\u001b[0;32m   1743\u001b[0m \u001b[38;5;66;03m# this function, and just call forward.\u001b[39;00m\n\u001b[0;32m   1744\u001b[0m \u001b[38;5;28;01mif\u001b[39;00m \u001b[38;5;129;01mnot\u001b[39;00m (\u001b[38;5;28mself\u001b[39m\u001b[38;5;241m.\u001b[39m_backward_hooks \u001b[38;5;129;01mor\u001b[39;00m \u001b[38;5;28mself\u001b[39m\u001b[38;5;241m.\u001b[39m_backward_pre_hooks \u001b[38;5;129;01mor\u001b[39;00m \u001b[38;5;28mself\u001b[39m\u001b[38;5;241m.\u001b[39m_forward_hooks \u001b[38;5;129;01mor\u001b[39;00m \u001b[38;5;28mself\u001b[39m\u001b[38;5;241m.\u001b[39m_forward_pre_hooks\n\u001b[0;32m   1745\u001b[0m         \u001b[38;5;129;01mor\u001b[39;00m _global_backward_pre_hooks \u001b[38;5;129;01mor\u001b[39;00m _global_backward_hooks\n\u001b[0;32m   1746\u001b[0m         \u001b[38;5;129;01mor\u001b[39;00m _global_forward_hooks \u001b[38;5;129;01mor\u001b[39;00m _global_forward_pre_hooks):\n\u001b[1;32m-> 1747\u001b[0m     \u001b[38;5;28;01mreturn\u001b[39;00m forward_call(\u001b[38;5;241m*\u001b[39margs, \u001b[38;5;241m*\u001b[39m\u001b[38;5;241m*\u001b[39mkwargs)\n\u001b[0;32m   1749\u001b[0m result \u001b[38;5;241m=\u001b[39m \u001b[38;5;28;01mNone\u001b[39;00m\n\u001b[0;32m   1750\u001b[0m called_always_called_hooks \u001b[38;5;241m=\u001b[39m \u001b[38;5;28mset\u001b[39m()\n",
      "File \u001b[1;32mc:\\Users\\adiez_cmic\\github_repos\\shreyag_ibd_orgs\\.pixi\\envs\\default\\lib\\site-packages\\segment_anything\\modeling\\image_encoder.py:234\u001b[0m, in \u001b[0;36mAttention.forward\u001b[1;34m(self, x)\u001b[0m\n\u001b[0;32m    231\u001b[0m attn \u001b[38;5;241m=\u001b[39m (q \u001b[38;5;241m*\u001b[39m \u001b[38;5;28mself\u001b[39m\u001b[38;5;241m.\u001b[39mscale) \u001b[38;5;241m@\u001b[39m k\u001b[38;5;241m.\u001b[39mtranspose(\u001b[38;5;241m-\u001b[39m\u001b[38;5;241m2\u001b[39m, \u001b[38;5;241m-\u001b[39m\u001b[38;5;241m1\u001b[39m)\n\u001b[0;32m    233\u001b[0m \u001b[38;5;28;01mif\u001b[39;00m \u001b[38;5;28mself\u001b[39m\u001b[38;5;241m.\u001b[39muse_rel_pos:\n\u001b[1;32m--> 234\u001b[0m     attn \u001b[38;5;241m=\u001b[39m \u001b[43madd_decomposed_rel_pos\u001b[49m\u001b[43m(\u001b[49m\u001b[43mattn\u001b[49m\u001b[43m,\u001b[49m\u001b[43m \u001b[49m\u001b[43mq\u001b[49m\u001b[43m,\u001b[49m\u001b[43m \u001b[49m\u001b[38;5;28;43mself\u001b[39;49m\u001b[38;5;241;43m.\u001b[39;49m\u001b[43mrel_pos_h\u001b[49m\u001b[43m,\u001b[49m\u001b[43m \u001b[49m\u001b[38;5;28;43mself\u001b[39;49m\u001b[38;5;241;43m.\u001b[39;49m\u001b[43mrel_pos_w\u001b[49m\u001b[43m,\u001b[49m\u001b[43m \u001b[49m\u001b[43m(\u001b[49m\u001b[43mH\u001b[49m\u001b[43m,\u001b[49m\u001b[43m \u001b[49m\u001b[43mW\u001b[49m\u001b[43m)\u001b[49m\u001b[43m,\u001b[49m\u001b[43m \u001b[49m\u001b[43m(\u001b[49m\u001b[43mH\u001b[49m\u001b[43m,\u001b[49m\u001b[43m \u001b[49m\u001b[43mW\u001b[49m\u001b[43m)\u001b[49m\u001b[43m)\u001b[49m\n\u001b[0;32m    236\u001b[0m attn \u001b[38;5;241m=\u001b[39m attn\u001b[38;5;241m.\u001b[39msoftmax(dim\u001b[38;5;241m=\u001b[39m\u001b[38;5;241m-\u001b[39m\u001b[38;5;241m1\u001b[39m)\n\u001b[0;32m    237\u001b[0m x \u001b[38;5;241m=\u001b[39m (attn \u001b[38;5;241m@\u001b[39m v)\u001b[38;5;241m.\u001b[39mview(B, \u001b[38;5;28mself\u001b[39m\u001b[38;5;241m.\u001b[39mnum_heads, H, W, \u001b[38;5;241m-\u001b[39m\u001b[38;5;241m1\u001b[39m)\u001b[38;5;241m.\u001b[39mpermute(\u001b[38;5;241m0\u001b[39m, \u001b[38;5;241m2\u001b[39m, \u001b[38;5;241m3\u001b[39m, \u001b[38;5;241m1\u001b[39m, \u001b[38;5;241m4\u001b[39m)\u001b[38;5;241m.\u001b[39mreshape(B, H, W, \u001b[38;5;241m-\u001b[39m\u001b[38;5;241m1\u001b[39m)\n",
      "File \u001b[1;32mc:\\Users\\adiez_cmic\\github_repos\\shreyag_ibd_orgs\\.pixi\\envs\\default\\lib\\site-packages\\segment_anything\\modeling\\image_encoder.py:349\u001b[0m, in \u001b[0;36madd_decomposed_rel_pos\u001b[1;34m(attn, q, rel_pos_h, rel_pos_w, q_size, k_size)\u001b[0m\n\u001b[0;32m    347\u001b[0m q_h, q_w \u001b[38;5;241m=\u001b[39m q_size\n\u001b[0;32m    348\u001b[0m k_h, k_w \u001b[38;5;241m=\u001b[39m k_size\n\u001b[1;32m--> 349\u001b[0m Rh \u001b[38;5;241m=\u001b[39m \u001b[43mget_rel_pos\u001b[49m\u001b[43m(\u001b[49m\u001b[43mq_h\u001b[49m\u001b[43m,\u001b[49m\u001b[43m \u001b[49m\u001b[43mk_h\u001b[49m\u001b[43m,\u001b[49m\u001b[43m \u001b[49m\u001b[43mrel_pos_h\u001b[49m\u001b[43m)\u001b[49m\n\u001b[0;32m    350\u001b[0m Rw \u001b[38;5;241m=\u001b[39m get_rel_pos(q_w, k_w, rel_pos_w)\n\u001b[0;32m    352\u001b[0m B, _, dim \u001b[38;5;241m=\u001b[39m q\u001b[38;5;241m.\u001b[39mshape\n",
      "\u001b[1;31mKeyboardInterrupt\u001b[0m: "
     ]
    }
   ],
   "source": [
    "labels, flows, styles = model.eval(img_cp, channel_axis=0, z_axis=1, do_3D=True, niter=None) # need to check the arguments\n",
    "viewer.add_labels(labels)"
   ]
  },
  {
   "cell_type": "code",
   "execution_count": 10,
   "id": "a73dce7e",
   "metadata": {},
   "outputs": [],
   "source": [
    "maxproj = np.max(img_cp, axis=1)"
   ]
  },
  {
   "cell_type": "code",
   "execution_count": 11,
   "id": "cf0f34c2",
   "metadata": {},
   "outputs": [
    {
     "data": {
      "text/plain": [
       "<Image layer 'maxproj' at 0x1a582861420>"
      ]
     },
     "execution_count": 11,
     "metadata": {},
     "output_type": "execute_result"
    }
   ],
   "source": [
    "viewer.add_image(maxproj)"
   ]
  },
  {
   "cell_type": "code",
   "execution_count": 12,
   "id": "250a1f16",
   "metadata": {},
   "outputs": [
    {
     "data": {
      "text/plain": [
       "(2, 1360, 1360)"
      ]
     },
     "execution_count": 12,
     "metadata": {},
     "output_type": "execute_result"
    }
   ],
   "source": [
    "maxproj.shape"
   ]
  },
  {
   "cell_type": "code",
   "execution_count": 13,
   "id": "c7dcb553",
   "metadata": {},
   "outputs": [
    {
     "data": {
      "text/plain": [
       "<Labels layer 'labels' at 0x1a591c12ce0>"
      ]
     },
     "execution_count": 13,
     "metadata": {},
     "output_type": "execute_result"
    }
   ],
   "source": [
    "labels, flows, styles = model.eval(maxproj[1], do_3D=False, niter=None) # simple nuclei segmentation\n",
    "viewer.add_labels(labels)"
   ]
  },
  {
   "cell_type": "code",
   "execution_count": null,
   "id": "dc13f4d7",
   "metadata": {},
   "outputs": [],
   "source": [
    "cle.voronoi_otsu_labeling()"
   ]
  },
  {
   "cell_type": "code",
   "execution_count": 14,
   "id": "c095b480",
   "metadata": {},
   "outputs": [],
   "source": [
    "import nd2\n",
    "\n",
    "def extract_scaling_metadata(filepath):\n",
    "\n",
    "    with nd2.ND2File(filepath) as nd2_data:\n",
    "        # Get the first channel's volume metadata\n",
    "        first_channel = nd2_data.metadata.channels[0]\n",
    "        voxel_size = first_channel.volume.axesCalibration  # X, Y, Z calibration\n",
    "\n",
    "        # Extract pixel sizes\n",
    "        pixel_size_x, pixel_size_y, voxel_size_z = voxel_size\n",
    "\n",
    "        print(f\"Pixel size: {pixel_size_x:.3f} µm x {pixel_size_y:.3f} µm\")\n",
    "        print(f\"Voxel (Z-step) size: {voxel_size_z:.3f} µm\")\n",
    "\n",
    "    return pixel_size_x, pixel_size_y, voxel_size_z"
   ]
  },
  {
   "cell_type": "code",
   "execution_count": 15,
   "id": "a0131f8e",
   "metadata": {},
   "outputs": [
    {
     "data": {
      "text/plain": [
       "(2, 15, 1360, 1360)"
      ]
     },
     "execution_count": 15,
     "metadata": {},
     "output_type": "execute_result"
    }
   ],
   "source": [
    "img_cp.shape"
   ]
  },
  {
   "cell_type": "code",
   "execution_count": 16,
   "id": "bb2306b3",
   "metadata": {},
   "outputs": [
    {
     "name": "stdout",
     "output_type": "stream",
     "text": [
      "Pixel size: 0.663 µm x 0.663 µm\n",
      "Voxel (Z-step) size: 6.631 µm\n"
     ]
    }
   ],
   "source": [
    "# Extract x,y,z scaling from .czi file metadata in order to make data isotropic\n",
    "scaling_x_um, scaling_y_um, scaling_z_um = extract_scaling_metadata(image)\n",
    "\n",
    "# Adjust so voxel size_x and size_y so they are equal to 1 to avoid compression upon rescaling\n",
    "multiplier = 1 / scaling_x_um\n",
    "\n",
    "scaling_x_um = scaling_x_um * multiplier\n",
    "scaling_y_um = scaling_y_um * multiplier\n",
    "scaling_z_um = scaling_z_um * multiplier\n",
    "\n",
    "resampled = cle.scale(img_cp[1], factor_x=scaling_x_um, factor_y=scaling_y_um, factor_z=scaling_z_um, auto_size=True)"
   ]
  },
  {
   "cell_type": "code",
   "execution_count": 17,
   "id": "9fbf74a2",
   "metadata": {},
   "outputs": [
    {
     "data": {
      "text/plain": [
       "<Image layer 'resampled' at 0x1a592039510>"
      ]
     },
     "execution_count": 17,
     "metadata": {},
     "output_type": "execute_result"
    },
    {
     "name": "stdout",
     "output_type": "stream",
     "text": [
      "2025-11-01 14:35:23,035 [INFO] No OpenGL_accelerate module loaded: No module named 'OpenGL_accelerate'\n"
     ]
    }
   ],
   "source": [
    "viewer.add_image(resampled)"
   ]
  },
  {
   "cell_type": "code",
   "execution_count": null,
   "id": "eaf80d0e",
   "metadata": {},
   "outputs": [
    {
     "name": "stdout",
     "output_type": "stream",
     "text": [
      "2025-11-01 14:37:53,370 [INFO] build program: kernel 'gaussian_blur_separable_3d' was part of a lengthy uncached source build (assuming cached by ICD) (0.28 s)\n"
     ]
    },
    {
     "data": {
      "text/plain": [
       "<Labels layer 'cle_labels' at 0x1a82e500d00>"
      ]
     },
     "execution_count": 18,
     "metadata": {},
     "output_type": "execute_result"
    }
   ],
   "source": [
    "cle_labels = cle.voronoi_otsu_labeling(resampled)\n",
    "viewer.add_labels(cle_labels)"
   ]
  },
  {
   "cell_type": "code",
   "execution_count": 21,
   "id": "26b7f462",
   "metadata": {},
   "outputs": [],
   "source": [
    "def simulate_cytoplasm(nuclei_labels, dilation_radius=2, erosion_radius=0):\n",
    "\n",
    "    if erosion_radius >= 1:\n",
    "\n",
    "        # Erode nuclei_labels to maintain a closed cytoplasmic region when labels are touching (if needed)\n",
    "        eroded_nuclei_labels = cle.erode_labels(nuclei_labels, radius=erosion_radius)\n",
    "        eroded_nuclei_labels = cle.pull(eroded_nuclei_labels)\n",
    "        nuclei_labels = eroded_nuclei_labels\n",
    "\n",
    "    # Dilate nuclei labels to simulate the surrounding cytoplasm\n",
    "    cyto_nuclei_labels = cle.dilate_labels(nuclei_labels, radius=dilation_radius)\n",
    "    cytoplasm = cle.pull(cyto_nuclei_labels)\n",
    "\n",
    "    # Create a binary mask of the nuclei\n",
    "    nuclei_mask = nuclei_labels > 0\n",
    "\n",
    "    # Set the corresponding values in the cyto_nuclei_labels array to zero\n",
    "    cytoplasm[nuclei_mask] = 0\n",
    "\n",
    "    return cytoplasm"
   ]
  },
  {
   "cell_type": "code",
   "execution_count": 23,
   "id": "46aa952d",
   "metadata": {},
   "outputs": [
    {
     "data": {
      "text/plain": [
       "<Labels layer 'cytoplasm [1]' at 0x1a597eea1a0>"
      ]
     },
     "execution_count": 23,
     "metadata": {},
     "output_type": "execute_result"
    }
   ],
   "source": [
    "cytoplasm = simulate_cytoplasm(labels, dilation_radius=3, erosion_radius=1)\n",
    "viewer.add_labels(cytoplasm)"
   ]
  }
 ],
 "metadata": {
  "kernelspec": {
   "display_name": "default",
   "language": "python",
   "name": "python3"
  },
  "language_info": {
   "codemirror_mode": {
    "name": "ipython",
    "version": 3
   },
   "file_extension": ".py",
   "mimetype": "text/x-python",
   "name": "python",
   "nbconvert_exporter": "python",
   "pygments_lexer": "ipython3",
   "version": "3.10.18"
  }
 },
 "nbformat": 4,
 "nbformat_minor": 5
}
