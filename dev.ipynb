{
 "cells": [
  {
   "cell_type": "code",
   "execution_count": 1,
   "id": "2d6f2848",
   "metadata": {},
   "outputs": [
    {
     "name": "stdout",
     "output_type": "stream",
     "text": [
      "\n",
      "\n",
      "Welcome to CellposeSAM, cellpose v\n",
      "cellpose version: \t4.0.6 \n",
      "platform:       \twin32 \n",
      "python version: \t3.10.18 \n",
      "torch version:  \t2.5.0! The neural network component of\n",
      "CPSAM is much larger than in previous versions and CPU excution is slow. \n",
      "We encourage users to use GPU/MPS if available. \n",
      "\n",
      "\n",
      "2025-10-06 14:01:12,469 [INFO] WRITING LOG OUTPUT TO C:\\Users\\adiez_cmic\\.cellpose\\run.log\n",
      "2025-10-06 14:01:12,469 [INFO] \n",
      "cellpose version: \t4.0.6 \n",
      "platform:       \twin32 \n",
      "python version: \t3.10.18 \n",
      "torch version:  \t2.5.0\n",
      "2025-10-06 14:01:12,548 [INFO] ** TORCH CUDA version installed and working. **\n",
      "2025-10-06 14:01:12,549 [INFO] ** TORCH CUDA version installed and working. **\n",
      "2025-10-06 14:01:12,549 [INFO] >>>> using GPU (CUDA)\n",
      "2025-10-06 14:01:13,468 [INFO] >>>> loading model C:\\Users\\adiez_cmic\\.cellpose\\models\\cpsam\n"
     ]
    }
   ],
   "source": [
    "import numpy as np\n",
    "from cellpose import models, core, io\n",
    "from pathlib import Path\n",
    "from pathlib import Path\n",
    "import napari\n",
    "import apoc\n",
    "from tqdm import tqdm\n",
    "import pyclesperanto_prototype as cle \n",
    "from tifffile import imwrite, imread\n",
    "from utils import list_images, read_image\n",
    "\n",
    "io.logger_setup() # run this to get printing of progress\n",
    "\n",
    "#Check if colab notebook instance has GPU access\n",
    "if core.use_gpu()==False:\n",
    "  raise ImportError(\"No GPU access, change your runtime\")\n",
    "\n",
    "#Load pre-trained Cellpose-SAM and Spotiflow models\n",
    "model = models.CellposeModel(gpu=True)"
   ]
  },
  {
   "cell_type": "code",
   "execution_count": 2,
   "id": "777aa243",
   "metadata": {},
   "outputs": [
    {
     "data": {
      "text/plain": [
       "['\\\\\\\\forskning.it.ntnu.no\\\\ntnu\\\\mh\\\\ikom\\\\cmic_konfokal\\\\lusie.f.kuraas\\\\PhD\\\\Nikon Spinning Disc\\\\25.09.19\\\\Plate 1 (occludin + claudin-2)\\\\E2_20x.nd2',\n",
       " '\\\\\\\\forskning.it.ntnu.no\\\\ntnu\\\\mh\\\\ikom\\\\cmic_konfokal\\\\lusie.f.kuraas\\\\PhD\\\\Nikon Spinning Disc\\\\25.09.19\\\\Plate 1 (occludin + claudin-2)\\\\E3_20x.nd2',\n",
       " '\\\\\\\\forskning.it.ntnu.no\\\\ntnu\\\\mh\\\\ikom\\\\cmic_konfokal\\\\lusie.f.kuraas\\\\PhD\\\\Nikon Spinning Disc\\\\25.09.19\\\\Plate 1 (occludin + claudin-2)\\\\E4_20x.nd2',\n",
       " '\\\\\\\\forskning.it.ntnu.no\\\\ntnu\\\\mh\\\\ikom\\\\cmic_konfokal\\\\lusie.f.kuraas\\\\PhD\\\\Nikon Spinning Disc\\\\25.09.19\\\\Plate 1 (occludin + claudin-2)\\\\E5_20x.nd2',\n",
       " '\\\\\\\\forskning.it.ntnu.no\\\\ntnu\\\\mh\\\\ikom\\\\cmic_konfokal\\\\lusie.f.kuraas\\\\PhD\\\\Nikon Spinning Disc\\\\25.09.19\\\\Plate 1 (occludin + claudin-2)\\\\E6_20x.nd2',\n",
       " '\\\\\\\\forskning.it.ntnu.no\\\\ntnu\\\\mh\\\\ikom\\\\cmic_konfokal\\\\lusie.f.kuraas\\\\PhD\\\\Nikon Spinning Disc\\\\25.09.19\\\\Plate 1 (occludin + claudin-2)\\\\E7_20x.nd2',\n",
       " '\\\\\\\\forskning.it.ntnu.no\\\\ntnu\\\\mh\\\\ikom\\\\cmic_konfokal\\\\lusie.f.kuraas\\\\PhD\\\\Nikon Spinning Disc\\\\25.09.19\\\\Plate 1 (occludin + claudin-2)\\\\E8_20x.nd2',\n",
       " '\\\\\\\\forskning.it.ntnu.no\\\\ntnu\\\\mh\\\\ikom\\\\cmic_konfokal\\\\lusie.f.kuraas\\\\PhD\\\\Nikon Spinning Disc\\\\25.09.19\\\\Plate 1 (occludin + claudin-2)\\\\E9_20x.nd2',\n",
       " '\\\\\\\\forskning.it.ntnu.no\\\\ntnu\\\\mh\\\\ikom\\\\cmic_konfokal\\\\lusie.f.kuraas\\\\PhD\\\\Nikon Spinning Disc\\\\25.09.19\\\\Plate 1 (occludin + claudin-2)\\\\F2_20x.nd2',\n",
       " '\\\\\\\\forskning.it.ntnu.no\\\\ntnu\\\\mh\\\\ikom\\\\cmic_konfokal\\\\lusie.f.kuraas\\\\PhD\\\\Nikon Spinning Disc\\\\25.09.19\\\\Plate 1 (occludin + claudin-2)\\\\F3_20x.nd2',\n",
       " '\\\\\\\\forskning.it.ntnu.no\\\\ntnu\\\\mh\\\\ikom\\\\cmic_konfokal\\\\lusie.f.kuraas\\\\PhD\\\\Nikon Spinning Disc\\\\25.09.19\\\\Plate 1 (occludin + claudin-2)\\\\F4_20x.nd2',\n",
       " '\\\\\\\\forskning.it.ntnu.no\\\\ntnu\\\\mh\\\\ikom\\\\cmic_konfokal\\\\lusie.f.kuraas\\\\PhD\\\\Nikon Spinning Disc\\\\25.09.19\\\\Plate 1 (occludin + claudin-2)\\\\F5_20x.nd2',\n",
       " '\\\\\\\\forskning.it.ntnu.no\\\\ntnu\\\\mh\\\\ikom\\\\cmic_konfokal\\\\lusie.f.kuraas\\\\PhD\\\\Nikon Spinning Disc\\\\25.09.19\\\\Plate 1 (occludin + claudin-2)\\\\F6_20x.nd2',\n",
       " '\\\\\\\\forskning.it.ntnu.no\\\\ntnu\\\\mh\\\\ikom\\\\cmic_konfokal\\\\lusie.f.kuraas\\\\PhD\\\\Nikon Spinning Disc\\\\25.09.19\\\\Plate 1 (occludin + claudin-2)\\\\F7_20x.nd2',\n",
       " '\\\\\\\\forskning.it.ntnu.no\\\\ntnu\\\\mh\\\\ikom\\\\cmic_konfokal\\\\lusie.f.kuraas\\\\PhD\\\\Nikon Spinning Disc\\\\25.09.19\\\\Plate 1 (occludin + claudin-2)\\\\F8_20x.nd2',\n",
       " '\\\\\\\\forskning.it.ntnu.no\\\\ntnu\\\\mh\\\\ikom\\\\cmic_konfokal\\\\lusie.f.kuraas\\\\PhD\\\\Nikon Spinning Disc\\\\25.09.19\\\\Plate 1 (occludin + claudin-2)\\\\F9_20x.nd2',\n",
       " '\\\\\\\\forskning.it.ntnu.no\\\\ntnu\\\\mh\\\\ikom\\\\cmic_konfokal\\\\lusie.f.kuraas\\\\PhD\\\\Nikon Spinning Disc\\\\25.09.19\\\\Plate 1 (occludin + claudin-2)\\\\G2_20x.nd2',\n",
       " '\\\\\\\\forskning.it.ntnu.no\\\\ntnu\\\\mh\\\\ikom\\\\cmic_konfokal\\\\lusie.f.kuraas\\\\PhD\\\\Nikon Spinning Disc\\\\25.09.19\\\\Plate 1 (occludin + claudin-2)\\\\G3_20x.nd2',\n",
       " '\\\\\\\\forskning.it.ntnu.no\\\\ntnu\\\\mh\\\\ikom\\\\cmic_konfokal\\\\lusie.f.kuraas\\\\PhD\\\\Nikon Spinning Disc\\\\25.09.19\\\\Plate 1 (occludin + claudin-2)\\\\G4_20x.nd2',\n",
       " '\\\\\\\\forskning.it.ntnu.no\\\\ntnu\\\\mh\\\\ikom\\\\cmic_konfokal\\\\lusie.f.kuraas\\\\PhD\\\\Nikon Spinning Disc\\\\25.09.19\\\\Plate 1 (occludin + claudin-2)\\\\G5_20x.nd2',\n",
       " '\\\\\\\\forskning.it.ntnu.no\\\\ntnu\\\\mh\\\\ikom\\\\cmic_konfokal\\\\lusie.f.kuraas\\\\PhD\\\\Nikon Spinning Disc\\\\25.09.19\\\\Plate 1 (occludin + claudin-2)\\\\G6_20x.nd2',\n",
       " '\\\\\\\\forskning.it.ntnu.no\\\\ntnu\\\\mh\\\\ikom\\\\cmic_konfokal\\\\lusie.f.kuraas\\\\PhD\\\\Nikon Spinning Disc\\\\25.09.19\\\\Plate 1 (occludin + claudin-2)\\\\G7_20x.nd2',\n",
       " '\\\\\\\\forskning.it.ntnu.no\\\\ntnu\\\\mh\\\\ikom\\\\cmic_konfokal\\\\lusie.f.kuraas\\\\PhD\\\\Nikon Spinning Disc\\\\25.09.19\\\\Plate 1 (occludin + claudin-2)\\\\G8_20x.nd2',\n",
       " '\\\\\\\\forskning.it.ntnu.no\\\\ntnu\\\\mh\\\\ikom\\\\cmic_konfokal\\\\lusie.f.kuraas\\\\PhD\\\\Nikon Spinning Disc\\\\25.09.19\\\\Plate 1 (occludin + claudin-2)\\\\G9_20x.nd2',\n",
       " '\\\\\\\\forskning.it.ntnu.no\\\\ntnu\\\\mh\\\\ikom\\\\cmic_konfokal\\\\lusie.f.kuraas\\\\PhD\\\\Nikon Spinning Disc\\\\25.09.19\\\\Plate 1 (occludin + claudin-2)\\\\Overview.nd2']"
      ]
     },
     "execution_count": 2,
     "metadata": {},
     "output_type": "execute_result"
    }
   ],
   "source": [
    "# Copy the path where your images are stored, you can use absolute or relative paths to point at other disk locations\n",
    "directory_path = Path(r\"\\\\forskning.it.ntnu.no\\ntnu\\mh\\ikom\\cmic_konfokal\\lusie.f.kuraas\\PhD\\Nikon Spinning Disc\\25.09.19\\Plate 1 (occludin + claudin-2)\")\n",
    "\n",
    "# Iterate through the .czi and .nd2 files in the directory\n",
    "images = list_images(directory_path)\n",
    "\n",
    "# Image size reduction (downsampling) to improve processing times (slicing, not lossless compression)\n",
    "slicing_factor_xy = None # Use 2 or 4 for downsampling in xy (None for lossless)\n",
    "\n",
    "images"
   ]
  },
  {
   "cell_type": "code",
   "execution_count": 6,
   "id": "e06f0871",
   "metadata": {},
   "outputs": [],
   "source": [
    "viewer = napari.Viewer(ndisplay=2)"
   ]
  },
  {
   "cell_type": "code",
   "execution_count": 3,
   "id": "72b15d1c",
   "metadata": {},
   "outputs": [
    {
     "name": "stdout",
     "output_type": "stream",
     "text": [
      "\n",
      "Image analyzed: E2_20x\n"
     ]
    },
    {
     "ename": "NameError",
     "evalue": "name 'viewer' is not defined",
     "output_type": "error",
     "traceback": [
      "\u001b[1;31m---------------------------------------------------------------------------\u001b[0m",
      "\u001b[1;31mNameError\u001b[0m                                 Traceback (most recent call last)",
      "Cell \u001b[1;32mIn[3], line 13\u001b[0m\n\u001b[0;32m     10\u001b[0m \u001b[38;5;66;03m# Open one of the multipositions in the img file\u001b[39;00m\n\u001b[0;32m     11\u001b[0m img \u001b[38;5;241m=\u001b[39m img[\u001b[38;5;241m2\u001b[39m]\n\u001b[1;32m---> 13\u001b[0m \u001b[43mviewer\u001b[49m\u001b[38;5;241m.\u001b[39madd_image(img)\n",
      "\u001b[1;31mNameError\u001b[0m: name 'viewer' is not defined"
     ]
    }
   ],
   "source": [
    "# Explore a different image (0 defines the first image in the directory)\n",
    "image = images[0]\n",
    "\n",
    "# Read image, apply slicing if needed and return filename and img as a np array\n",
    "img, filename = read_image(image, slicing_factor_xy)\n",
    "\n",
    "# Extract well_id\n",
    "well_id = filename.split(\"_\")[0]\n",
    "\n",
    "# Open one of the multipositions in the img file\n",
    "img = img[2]\n",
    "\n",
    "viewer.add_image(img)"
   ]
  },
  {
   "cell_type": "code",
   "execution_count": null,
   "id": "bae9ab36",
   "metadata": {},
   "outputs": [],
   "source": [
    "img.shape"
   ]
  },
  {
   "cell_type": "code",
   "execution_count": 7,
   "id": "33631e3d",
   "metadata": {},
   "outputs": [
    {
     "data": {
      "text/plain": [
       "(5, 15, 1360, 1360)"
      ]
     },
     "execution_count": 7,
     "metadata": {},
     "output_type": "execute_result"
    }
   ],
   "source": [
    "img = img.transpose(1, 0, 2, 3)\n",
    "img.shape"
   ]
  },
  {
   "cell_type": "code",
   "execution_count": 8,
   "id": "1930ce8e",
   "metadata": {},
   "outputs": [
    {
     "data": {
      "text/plain": [
       "(2, 15, 1360, 1360)"
      ]
     },
     "execution_count": 8,
     "metadata": {},
     "output_type": "execute_result"
    }
   ],
   "source": [
    "# Cellmask and nuclei are in position 2 and 3 respectively\n",
    "\n",
    "# if you want to combine two stains to create your \"cytoplasm\" channel\n",
    "# in this example indices 0, 1 and 2 (1st, 2nd and 3rd) have cellular stains\n",
    "# and nuclei are in index 3 (4th channel)\n",
    "\n",
    "img_cp = np.stack((img[[0,1,2]].sum(axis=0), img[3]), axis=0)\n",
    "\n",
    "img_cp.shape"
   ]
  },
  {
   "cell_type": "code",
   "execution_count": null,
   "id": "324c4bbc",
   "metadata": {},
   "outputs": [],
   "source": [
    "viewer.add_image(img_cp)"
   ]
  },
  {
   "cell_type": "code",
   "execution_count": null,
   "id": "7ee5073c",
   "metadata": {},
   "outputs": [],
   "source": [
    "labels, flows, styles = model.eval(img_cp, channel_axis=0, z_axis=1, do_3D=True, niter=None) # need to check the arguments\n",
    "viewer.add_labels(labels)"
   ]
  },
  {
   "cell_type": "code",
   "execution_count": null,
   "id": "a73dce7e",
   "metadata": {},
   "outputs": [],
   "source": [
    "maxproj = np.max(img_cp, axis=1)"
   ]
  },
  {
   "cell_type": "code",
   "execution_count": null,
   "id": "cf0f34c2",
   "metadata": {},
   "outputs": [],
   "source": [
    "viewer.add_image(maxproj)"
   ]
  },
  {
   "cell_type": "code",
   "execution_count": null,
   "id": "250a1f16",
   "metadata": {},
   "outputs": [],
   "source": [
    "maxproj.shape"
   ]
  },
  {
   "cell_type": "code",
   "execution_count": null,
   "id": "c7dcb553",
   "metadata": {},
   "outputs": [],
   "source": [
    "labels, flows, styles = model.eval(maxproj[1], do_3D=False, niter=None) # simple nuclei segmentation\n",
    "viewer.add_labels(labels)"
   ]
  },
  {
   "cell_type": "code",
   "execution_count": null,
   "id": "dc13f4d7",
   "metadata": {},
   "outputs": [],
   "source": [
    "cle.voronoi_otsu_labeling()"
   ]
  },
  {
   "cell_type": "code",
   "execution_count": 4,
   "id": "c095b480",
   "metadata": {},
   "outputs": [],
   "source": [
    "import nd2\n",
    "\n",
    "def extract_scaling_metadata(filepath):\n",
    "\n",
    "    with nd2.ND2File(filepath) as nd2_data:\n",
    "        # Get the first channel's volume metadata\n",
    "        first_channel = nd2_data.metadata.channels[0]\n",
    "        voxel_size = first_channel.volume.axesCalibration  # X, Y, Z calibration\n",
    "\n",
    "        # Extract pixel sizes\n",
    "        pixel_size_x, pixel_size_y, voxel_size_z = voxel_size\n",
    "\n",
    "        print(f\"Pixel size: {pixel_size_x:.3f} µm x {pixel_size_y:.3f} µm\")\n",
    "        print(f\"Voxel (Z-step) size: {voxel_size_z:.3f} µm\")\n",
    "\n",
    "    return pixel_size_x, pixel_size_y, voxel_size_z"
   ]
  },
  {
   "cell_type": "code",
   "execution_count": 11,
   "id": "a0131f8e",
   "metadata": {},
   "outputs": [
    {
     "data": {
      "text/plain": [
       "(2, 15, 1360, 1360)"
      ]
     },
     "execution_count": 11,
     "metadata": {},
     "output_type": "execute_result"
    }
   ],
   "source": [
    "img_cp.shape"
   ]
  },
  {
   "cell_type": "code",
   "execution_count": 14,
   "id": "bb2306b3",
   "metadata": {},
   "outputs": [
    {
     "name": "stdout",
     "output_type": "stream",
     "text": [
      "Pixel size: 0.663 µm x 0.663 µm\n",
      "Voxel (Z-step) size: 6.631 µm\n"
     ]
    }
   ],
   "source": [
    "# Extract x,y,z scaling from .czi file metadata in order to make data isotropic\n",
    "scaling_x_um, scaling_y_um, scaling_z_um = extract_scaling_metadata(image)\n",
    "\n",
    "# Adjust so voxel size_x and size_y so they are equal to 1 to avoid compression upon rescaling\n",
    "multiplier = 1 / scaling_x_um\n",
    "\n",
    "scaling_x_um = scaling_x_um * multiplier\n",
    "scaling_y_um = scaling_y_um * multiplier\n",
    "scaling_z_um = scaling_z_um * multiplier\n",
    "\n",
    "resampled = cle.scale(img_cp[1], factor_x=scaling_x_um, factor_y=scaling_y_um, factor_z=scaling_z_um, auto_size=True)"
   ]
  },
  {
   "cell_type": "code",
   "execution_count": 15,
   "id": "9fbf74a2",
   "metadata": {},
   "outputs": [
    {
     "data": {
      "text/plain": [
       "<Image layer 'resampled [1]' at 0x2d084c4cd90>"
      ]
     },
     "execution_count": 15,
     "metadata": {},
     "output_type": "execute_result"
    }
   ],
   "source": [
    "viewer.add_image(resampled)"
   ]
  }
 ],
 "metadata": {
  "kernelspec": {
   "display_name": "default",
   "language": "python",
   "name": "python3"
  },
  "language_info": {
   "codemirror_mode": {
    "name": "ipython",
    "version": 3
   },
   "file_extension": ".py",
   "mimetype": "text/x-python",
   "name": "python",
   "nbconvert_exporter": "python",
   "pygments_lexer": "ipython3",
   "version": "3.10.18"
  }
 },
 "nbformat": 4,
 "nbformat_minor": 5
}
